{
  "cells": [
    {
      "cell_type": "markdown",
      "id": "df9906a4-08f7-4c0d-b03a-a896fa30e882",
      "metadata": {
        "id": "df9906a4-08f7-4c0d-b03a-a896fa30e882"
      },
      "source": [
        "# Programming 1 – Calculations in Python\n",
        "\n",
        "Authors:\n",
        "- Dr Tom Slater\n",
        "\n",
        "Email: slatert2@cardiff.ac.uk\n",
        "\n",
        "## Learning Objectives\n",
        "-\tUse Jupyter notebooks to execute Python code.\n",
        "-\tDefine and call functions, including single-line functions using lambda.\n",
        "-\tUse Python functions to calculate basic thermodynamic quantities.\n",
        "\n",
        "## Table of Contents\n",
        "\n",
        "1. [Variables and Types](#variables)       \n",
        "2. [Mathematical Operations](#maths)\n",
        "3. [NumPy](#numpy)\n",
        "4. [Functions](#functions)\n",
        "5. [Lambda Functions](#lambda)\n",
        "6. [End of Session Task](#final-task)\n",
        "\n",
        "### Further reading for this topic\n",
        "\n",
        "- [Software carpentry lessons](http://swcarpentry.github.io/python-novice-gapminder/index.html)\n",
        "\n",
        "**<span style=\"color:black\">Jupyter Cheat Sheet</span>**\n",
        "- To run the currently highlighted cell and move focus to the next cell, hold <kbd>&#x21E7; Shift</kbd> and press <kbd>&#x23ce; Enter</kbd>;\n",
        "- To run the currently highlighted cell and keep focus in the same cell, hold <kbd>&#x21E7; Ctrl</kbd> and press <kbd>&#x23ce; Enter</kbd>;\n",
        "- To get help for a specific function, place the cursor within the function's brackets, hold <kbd>&#x21E7; Shift</kbd>, and press <kbd>&#x21E5; Tab</kbd>;"
      ]
    },
    {
      "cell_type": "markdown",
      "id": "ce563f6f-d25f-4a3b-a536-e0fd0cd7df78",
      "metadata": {
        "id": "ce563f6f-d25f-4a3b-a536-e0fd0cd7df78"
      },
      "source": [
        "## 1. Variables and Types\n",
        "<a id='variables'></a>\n",
        "\n",
        "Python variables store data. Variables can have almost any name but it's best to use an understandable name. For example:"
      ]
    },
    {
      "cell_type": "code",
      "execution_count": null,
      "id": "172b1bfe-8f9e-4561-ad46-7f0fe0275745",
      "metadata": {
        "id": "172b1bfe-8f9e-4561-ad46-7f0fe0275745"
      },
      "outputs": [],
      "source": [
        "mass_of_electron = 9.1093837e-31"
      ]
    },
    {
      "cell_type": "markdown",
      "id": "968ed4b1-b055-4ea1-8536-ad6996a37c5a",
      "metadata": {
        "id": "968ed4b1-b055-4ea1-8536-ad6996a37c5a"
      },
      "source": [
        "The most used style guide for programming in Python is [PEP8](https://peps.python.org/pep-0008/). This style guide notes that variables should include only lowercase letters and words should be separated by underscores. Hence the name used above!"
      ]
    },
    {
      "cell_type": "markdown",
      "id": "e0496e67-3dc1-411e-87e3-80f5d0851e53",
      "metadata": {
        "id": "e0496e67-3dc1-411e-87e3-80f5d0851e53"
      },
      "source": [
        "Variables can have a variety of different types. To determine the type of a variable, we can apply the type() function to the variable."
      ]
    },
    {
      "cell_type": "code",
      "execution_count": null,
      "id": "e8c14913-57ee-418b-a138-6ec4b4a8f438",
      "metadata": {
        "id": "e8c14913-57ee-418b-a138-6ec4b4a8f438",
        "outputId": "1ab5f58c-da0c-4d0b-d257-ba032bc00e68",
        "colab": {
          "base_uri": "https://localhost:8080/"
        }
      },
      "outputs": [
        {
          "output_type": "execute_result",
          "data": {
            "text/plain": [
              "float"
            ]
          },
          "metadata": {},
          "execution_count": 2
        }
      ],
      "source": [
        "type(mass_of_electron)"
      ]
    },
    {
      "cell_type": "markdown",
      "id": "e91fbddc-565b-4091-a174-89c23ba10ce9",
      "metadata": {
        "id": "e91fbddc-565b-4091-a174-89c23ba10ce9"
      },
      "source": [
        "The most common types (most of which we saw in first year programming) include:\n",
        "\n",
        "- Integers (int): Whole numbers.\n",
        "- Floating point numbers (float): Any real number including a decimal point.\n",
        "- Strings (str): Groups of characters, e.g. a word or sentence.\n",
        "- Booleans (bool): True or false.\n",
        "- Lists (list): Collection of multiple items.\n",
        "\n",
        "As examples:"
      ]
    },
    {
      "cell_type": "code",
      "execution_count": null,
      "id": "12ce4b1d-5b80-4811-a104-8c5687ccd7d1",
      "metadata": {
        "id": "12ce4b1d-5b80-4811-a104-8c5687ccd7d1",
        "outputId": "5cc0fc9f-0726-4144-b0c0-ebd43b76dfbb",
        "colab": {
          "base_uri": "https://localhost:8080/"
        }
      },
      "outputs": [
        {
          "output_type": "stream",
          "name": "stdout",
          "text": [
            "<class 'int'>\n",
            "<class 'float'>\n",
            "<class 'str'>\n",
            "<class 'bool'>\n",
            "<class 'list'>\n"
          ]
        }
      ],
      "source": [
        "quantum_number = 2\n",
        "print(type(quantum_number))\n",
        "\n",
        "mass_of_electron = 9.1093837e-31\n",
        "print(type(mass_of_electron))\n",
        "\n",
        "scientist_name = \"Erwin Schrödinger\"\n",
        "print(type(scientist_name))\n",
        "\n",
        "cat_alive = True\n",
        "print(type(cat_alive))\n",
        "\n",
        "first_five_numbers = [1, 2, 3, 4, 5]\n",
        "print(type(first_five_numbers))"
      ]
    },
    {
      "cell_type": "markdown",
      "id": "a8520fe7-832c-483c-bcc2-bcde281c6213",
      "metadata": {
        "id": "a8520fe7-832c-483c-bcc2-bcde281c6213"
      },
      "source": [
        "One of the big benefits of Python is that you don't have to declare the type of a variable, Python interprets the type for you. You can also change the type of a variable, which can be useful but can also present risks!"
      ]
    },
    {
      "cell_type": "code",
      "execution_count": null,
      "id": "6f45ae95-47a5-4b1d-89c4-9b8e9340ffda",
      "metadata": {
        "id": "6f45ae95-47a5-4b1d-89c4-9b8e9340ffda",
        "outputId": "e1bbf201-d955-44b6-b7a5-a76637752690",
        "colab": {
          "base_uri": "https://localhost:8080/"
        }
      },
      "outputs": [
        {
          "output_type": "stream",
          "name": "stdout",
          "text": [
            "<class 'int'>\n"
          ]
        }
      ],
      "source": [
        "mass_of_electron = 1\n",
        "print(type(mass_of_electron))"
      ]
    },
    {
      "cell_type": "markdown",
      "id": "bac7e654-dba4-415a-b1dd-fad47e39384a",
      "metadata": {
        "id": "bac7e654-dba4-415a-b1dd-fad47e39384a"
      },
      "source": [
        "<div class=\"alert alert-success\">\n",
        "<b>Task 1.1: Define and assign variables with suitable names for:<br></b>\n",
        "- The ideal gas constant.<br>\n",
        "- The atomic number of an element (pick your favourite).<br>\n",
        "- The name of an element (pick your favourite).\n",
        "\n",
        "</div>    "
      ]
    },
    {
      "cell_type": "code",
      "execution_count": null,
      "id": "95099844-568d-4145-9e94-9cd456b96177",
      "metadata": {
        "id": "95099844-568d-4145-9e94-9cd456b96177"
      },
      "outputs": [],
      "source": [
        "#Enter code for Task 1.1 here\n",
        "r = 3.814\n",
        "element = 1\n",
        "element_name = 'H'"
      ]
    },
    {
      "cell_type": "markdown",
      "id": "08aaf655-df6b-4152-8ffc-b03c78e21763",
      "metadata": {
        "id": "08aaf655-df6b-4152-8ffc-b03c78e21763"
      },
      "source": [
        "<div class=\"alert alert-success\">\n",
        "<b>Task 1.2: Create a list that contains all of the variables created in Task 1.1.<br></b>\n",
        "\n",
        "Note here: Lists can contain items of different types!\n",
        "\n",
        "</div>    "
      ]
    },
    {
      "cell_type": "code",
      "execution_count": null,
      "id": "9bc0091a-b1ab-4346-baae-2a7aa99e4fc2",
      "metadata": {
        "id": "9bc0091a-b1ab-4346-baae-2a7aa99e4fc2"
      },
      "outputs": [],
      "source": [
        "#Enter code for Task 1.2 here\n",
        "var = [r, element, element_name]"
      ]
    },
    {
      "cell_type": "markdown",
      "id": "2a9b1829-2bb9-49a5-8700-bd493f7f2c25",
      "metadata": {
        "id": "2a9b1829-2bb9-49a5-8700-bd493f7f2c25"
      },
      "source": [
        "## 2. Simple mathematical operations\n",
        "<a id='maths'></a>\n",
        "\n",
        "In this session, we will be using Python to perform mathematical operations. Python has a number of native mathematical operators, which include:\n",
        "\n",
        "- (+) : addition\n",
        "- (-) : subtraction\n",
        "- (/) : division\n",
        "- (//): floor division\n",
        "- (*) : multiplication\n",
        "- (**): raise to the power\n",
        "\n",
        "These are mostly straightforward, as shown in the examples below:"
      ]
    },
    {
      "cell_type": "markdown",
      "id": "d7172e5d-777b-4f05-a4d8-036d13a1ee99",
      "metadata": {
        "id": "d7172e5d-777b-4f05-a4d8-036d13a1ee99"
      },
      "source": [
        "Addition:"
      ]
    },
    {
      "cell_type": "code",
      "execution_count": null,
      "id": "a30b54a5-4729-444e-9aa6-6c7376c6cbf2",
      "metadata": {
        "id": "a30b54a5-4729-444e-9aa6-6c7376c6cbf2",
        "outputId": "5f1d6076-1b92-4c50-970e-db677e4c016f",
        "colab": {
          "base_uri": "https://localhost:8080/"
        }
      },
      "outputs": [
        {
          "output_type": "execute_result",
          "data": {
            "text/plain": [
              "5"
            ]
          },
          "metadata": {},
          "execution_count": 5
        }
      ],
      "source": [
        "3+2"
      ]
    },
    {
      "cell_type": "markdown",
      "id": "6e6d2283-65e3-43aa-8728-3ae8204bc9a4",
      "metadata": {
        "id": "6e6d2283-65e3-43aa-8728-3ae8204bc9a4"
      },
      "source": [
        "Multiplication:"
      ]
    },
    {
      "cell_type": "code",
      "execution_count": null,
      "id": "123b3bf9-d74b-41f4-9bd3-883194e21934",
      "metadata": {
        "id": "123b3bf9-d74b-41f4-9bd3-883194e21934",
        "outputId": "485aab16-fa55-40dd-bab5-3cdfcf5a46ac",
        "colab": {
          "base_uri": "https://localhost:8080/"
        }
      },
      "outputs": [
        {
          "output_type": "execute_result",
          "data": {
            "text/plain": [
              "6"
            ]
          },
          "metadata": {},
          "execution_count": 6
        }
      ],
      "source": [
        "3*2"
      ]
    },
    {
      "cell_type": "markdown",
      "id": "b397aa60-7e7a-41a5-90bb-061211e3ccc6",
      "metadata": {
        "id": "b397aa60-7e7a-41a5-90bb-061211e3ccc6"
      },
      "source": [
        "Exponentials:"
      ]
    },
    {
      "cell_type": "code",
      "execution_count": null,
      "id": "0fef4c77-a559-4f25-9355-e52c209dc305",
      "metadata": {
        "id": "0fef4c77-a559-4f25-9355-e52c209dc305",
        "outputId": "ee76d756-bddb-49de-aede-cbbd23ca95f7",
        "colab": {
          "base_uri": "https://localhost:8080/"
        }
      },
      "outputs": [
        {
          "output_type": "execute_result",
          "data": {
            "text/plain": [
              "9"
            ]
          },
          "metadata": {},
          "execution_count": 7
        }
      ],
      "source": [
        "3**2"
      ]
    },
    {
      "cell_type": "markdown",
      "id": "b921b248-d683-47dd-acf9-7264a1a660e8",
      "metadata": {
        "id": "b921b248-d683-47dd-acf9-7264a1a660e8"
      },
      "source": [
        "The two division operators require a little more explanation. The (/) operator does division in a standard way, i.e. it will output a non-integer if the numerator is not divisble by the denominator."
      ]
    },
    {
      "cell_type": "code",
      "execution_count": null,
      "id": "0b3e5e65-a0b9-472d-8c97-db9165fe0532",
      "metadata": {
        "id": "0b3e5e65-a0b9-472d-8c97-db9165fe0532",
        "outputId": "5f80de77-f22f-4d54-9815-30b340229311",
        "colab": {
          "base_uri": "https://localhost:8080/"
        }
      },
      "outputs": [
        {
          "output_type": "execute_result",
          "data": {
            "text/plain": [
              "1.5"
            ]
          },
          "metadata": {},
          "execution_count": 8
        }
      ],
      "source": [
        "3/2"
      ]
    },
    {
      "cell_type": "markdown",
      "id": "33d97710-6433-4851-a9a0-e8f295dfe2b6",
      "metadata": {
        "id": "33d97710-6433-4851-a9a0-e8f295dfe2b6"
      },
      "source": [
        "However, the (//) operator will do the division and round down to the nearest integer."
      ]
    },
    {
      "cell_type": "code",
      "execution_count": null,
      "id": "58dc4d4a-81b1-4d07-bb1e-87fa9cb38186",
      "metadata": {
        "id": "58dc4d4a-81b1-4d07-bb1e-87fa9cb38186",
        "outputId": "7130fa54-0b2d-4f37-e785-506e46d320c1",
        "colab": {
          "base_uri": "https://localhost:8080/"
        }
      },
      "outputs": [
        {
          "output_type": "execute_result",
          "data": {
            "text/plain": [
              "1"
            ]
          },
          "metadata": {},
          "execution_count": 9
        }
      ],
      "source": [
        "3//2"
      ]
    },
    {
      "cell_type": "markdown",
      "id": "d733df28-c4ff-44fe-990a-477dc6d75ee8",
      "metadata": {
        "id": "d733df28-c4ff-44fe-990a-477dc6d75ee8"
      },
      "source": [
        "This is true even if using floating point numbers!"
      ]
    },
    {
      "cell_type": "code",
      "execution_count": null,
      "id": "88ba2637-429f-4dd2-b1a1-a92b1fb77226",
      "metadata": {
        "id": "88ba2637-429f-4dd2-b1a1-a92b1fb77226",
        "outputId": "a02a7881-7f7d-440d-c03f-9ff5e5b9c75c",
        "colab": {
          "base_uri": "https://localhost:8080/"
        }
      },
      "outputs": [
        {
          "output_type": "execute_result",
          "data": {
            "text/plain": [
              "1.0"
            ]
          },
          "metadata": {},
          "execution_count": 10
        }
      ],
      "source": [
        "3.0//2.0"
      ]
    },
    {
      "cell_type": "markdown",
      "id": "46b1893b-306b-4292-bf11-d1fcf033b7b9",
      "metadata": {
        "id": "46b1893b-306b-4292-bf11-d1fcf033b7b9"
      },
      "source": [
        "### 2.1 Mathematical operations on lists\n",
        "\n",
        "Some of the operators above also work on lists, but in a manner that is very different to their operations on integers or floating point numbers.\n",
        "\n",
        "For instance, the + operator concatenates (joins together) the two lists here, rather than adding the values together."
      ]
    },
    {
      "cell_type": "code",
      "execution_count": null,
      "id": "2b2424b2-206d-4405-9c71-5895b150a612",
      "metadata": {
        "id": "2b2424b2-206d-4405-9c71-5895b150a612",
        "outputId": "d960f48b-a200-4bdf-f81a-f388f50c703e",
        "colab": {
          "base_uri": "https://localhost:8080/"
        }
      },
      "outputs": [
        {
          "output_type": "execute_result",
          "data": {
            "text/plain": [
              "[1, 2, 3, 4]"
            ]
          },
          "metadata": {},
          "execution_count": 11
        }
      ],
      "source": [
        "[1, 2] + [3, 4]"
      ]
    },
    {
      "cell_type": "markdown",
      "id": "90c9c2fd-7883-441a-aa0d-c85731da252e",
      "metadata": {
        "id": "90c9c2fd-7883-441a-aa0d-c85731da252e"
      },
      "source": [
        "It's possible to multiply a list by an integer, but this simply adds copies of the list elements to the list."
      ]
    },
    {
      "cell_type": "code",
      "execution_count": null,
      "id": "6f513c37-c15b-4081-b9af-9b141c2a4238",
      "metadata": {
        "id": "6f513c37-c15b-4081-b9af-9b141c2a4238",
        "outputId": "46ec11c9-caf1-4f25-8e8d-aaa9e23a3ea9",
        "colab": {
          "base_uri": "https://localhost:8080/"
        }
      },
      "outputs": [
        {
          "output_type": "execute_result",
          "data": {
            "text/plain": [
              "[1, 2, 1, 2]"
            ]
          },
          "metadata": {},
          "execution_count": 12
        }
      ],
      "source": [
        "[1, 2] * 2"
      ]
    },
    {
      "cell_type": "markdown",
      "id": "df5e9872-6e44-45c1-920b-deaf54e4d32b",
      "metadata": {
        "id": "df5e9872-6e44-45c1-920b-deaf54e4d32b"
      },
      "source": [
        "For many calculations, we will have a one-dimensional set of data that we would like to perform a mathematical operation on. We've seen that this is difficult to achieve with lists, but next we'll move onto the NumPy package which makes this much easier."
      ]
    },
    {
      "cell_type": "markdown",
      "id": "39a62387-2e2d-4114-b95f-720396f272f1",
      "metadata": {
        "id": "39a62387-2e2d-4114-b95f-720396f272f1"
      },
      "source": [
        "<div class=\"alert alert-success\">\n",
        "<b>Task 2.1: Perform the following calculations:<br></b>\n",
        "- Add 3.14 to 2.72.<br>\n",
        "- Set the variable `a` to be 3. Multiply `a` by 4.<br>\n",
        "- Set the variable `b` to be 1. Add 3 to `b` and then raise it to the power 3.\n",
        "\n",
        "</div>"
      ]
    },
    {
      "cell_type": "code",
      "execution_count": null,
      "id": "6bed00df-2d62-45c8-9702-53effecb56e9",
      "metadata": {
        "id": "6bed00df-2d62-45c8-9702-53effecb56e9",
        "outputId": "531e46dd-39e2-47b8-a6c0-e0c5278588fb",
        "colab": {
          "base_uri": "https://localhost:8080/"
        }
      },
      "outputs": [
        {
          "output_type": "stream",
          "name": "stdout",
          "text": [
            "12\n",
            "8\n"
          ]
        }
      ],
      "source": [
        "#Enter code for Task 2.1 here\n",
        "3.14 + 2.72\n",
        "a = 3\n",
        "a *= 4\n",
        "print(a)\n",
        "b = 1\n",
        "b += 1\n",
        "b = b**3\n",
        "print(b)"
      ]
    },
    {
      "cell_type": "markdown",
      "id": "8b500b65-e3e9-42c3-ae64-18dfbc9d90a8",
      "metadata": {
        "id": "8b500b65-e3e9-42c3-ae64-18dfbc9d90a8"
      },
      "source": [
        "## 3. NumPy\n",
        "<a id='numpy'></a>\n",
        "\n",
        "NumPy is the standard package for working with numerical arrays in Python. We can import NumPy using the `import` statement. Here, we are importing NumPy to use with the name `np`."
      ]
    },
    {
      "cell_type": "code",
      "execution_count": null,
      "id": "93a4d7e7-1349-495c-957b-e2082c03cd9e",
      "metadata": {
        "id": "93a4d7e7-1349-495c-957b-e2082c03cd9e"
      },
      "outputs": [],
      "source": [
        "import numpy as np"
      ]
    },
    {
      "cell_type": "markdown",
      "id": "5bcff21f-d0bc-4d88-a299-9e9a67518786",
      "metadata": {
        "id": "5bcff21f-d0bc-4d88-a299-9e9a67518786"
      },
      "source": [
        "An array is similar to a matrix, but can have any number of dimensions. We'll stick to one dimension in this session.\n",
        "\n",
        "To create an array, you can use the `array` function within NumPy with a list of numbers as input."
      ]
    },
    {
      "cell_type": "code",
      "execution_count": null,
      "id": "3d7e420d-ff24-48f5-880d-8dbbd5eada0a",
      "metadata": {
        "id": "3d7e420d-ff24-48f5-880d-8dbbd5eada0a",
        "outputId": "2d7fd793-755c-4a7c-a08a-ba4c0e796691",
        "colab": {
          "base_uri": "https://localhost:8080/"
        }
      },
      "outputs": [
        {
          "output_type": "stream",
          "name": "stdout",
          "text": [
            "[1 2 3 4 5]\n"
          ]
        }
      ],
      "source": [
        "arr = np.array([1, 2, 3, 4, 5])\n",
        "print(arr)"
      ]
    },
    {
      "cell_type": "markdown",
      "id": "b6db5657-a3cc-4fa8-ba77-d90851dc942b",
      "metadata": {
        "id": "b6db5657-a3cc-4fa8-ba77-d90851dc942b"
      },
      "source": [
        "To create larger arrays, there are other in-built functions. For example, to create a linearly-spaced array (i.e. the same interval between all elements), the `linspace` function can be used. Using `linspace` requires arguments of the form `linspace(start,stop,number of values)`."
      ]
    },
    {
      "cell_type": "code",
      "execution_count": null,
      "id": "e7aca0f5-79f0-465c-94ab-df39b72a426a",
      "metadata": {
        "id": "e7aca0f5-79f0-465c-94ab-df39b72a426a",
        "outputId": "f4a89523-5871-402e-fc52-c20b67a580e5",
        "colab": {
          "base_uri": "https://localhost:8080/"
        }
      },
      "outputs": [
        {
          "output_type": "stream",
          "name": "stdout",
          "text": [
            "[1. 2. 3. 4. 5.]\n"
          ]
        }
      ],
      "source": [
        "arr2 = np.linspace(1,5,5)\n",
        "print(arr2)"
      ]
    },
    {
      "cell_type": "markdown",
      "id": "8e6045e0-a370-410f-b46a-7c8d18b9058c",
      "metadata": {
        "id": "8e6045e0-a370-410f-b46a-7c8d18b9058c"
      },
      "source": [
        "<div class=\"alert alert-success\">\n",
        "<b>Task 3.1: Use the linspace function to create a numpy array `data` with the values [10, 20, 30, 40, 50].<br></b>\n",
        "</div>"
      ]
    },
    {
      "cell_type": "code",
      "execution_count": null,
      "id": "d3fa2153-6868-4338-b581-3391d80ec84b",
      "metadata": {
        "id": "d3fa2153-6868-4338-b581-3391d80ec84b",
        "outputId": "776e224b-c46f-448e-cdd7-b1bc795ff232",
        "colab": {
          "base_uri": "https://localhost:8080/"
        }
      },
      "outputs": [
        {
          "output_type": "stream",
          "name": "stdout",
          "text": [
            "[10 20 30 40 50]\n"
          ]
        }
      ],
      "source": [
        "#Enter code for Task 3.1 here\n",
        "data = np.linspace(10, 50, 5, dtype=np.int16)\n",
        "print(data)"
      ]
    },
    {
      "cell_type": "markdown",
      "id": "829aefc0-e623-49e0-9bc2-1c9cdc32e766",
      "metadata": {
        "id": "829aefc0-e623-49e0-9bc2-1c9cdc32e766"
      },
      "source": [
        "### 3.1 Mathematical operations on NumPy arrays"
      ]
    },
    {
      "cell_type": "markdown",
      "id": "9eb0af3b-81a6-417f-bf26-2bea7b2cc410",
      "metadata": {
        "id": "9eb0af3b-81a6-417f-bf26-2bea7b2cc410"
      },
      "source": [
        "A major advantage of NumPy arrays over lists, is that it's straightforward to use mathematical operations.\n",
        "\n",
        "The mathematical operators used in section 2 work on NumPy arrays in an element-wise fashion. That is, they operate individually on each element. Here are some examples using the array created above."
      ]
    },
    {
      "cell_type": "code",
      "execution_count": null,
      "id": "79f4d10c-328b-4b20-b8e3-08d0877b4015",
      "metadata": {
        "id": "79f4d10c-328b-4b20-b8e3-08d0877b4015",
        "outputId": "e808f592-6e90-49d9-f2df-6874207bae1a",
        "colab": {
          "base_uri": "https://localhost:8080/"
        }
      },
      "outputs": [
        {
          "output_type": "stream",
          "name": "stdout",
          "text": [
            "[ 2  4  6  8 10] [ 1  4  9 16 25]\n"
          ]
        }
      ],
      "source": [
        "# Basic operations\n",
        "arr_times_two = arr * 2\n",
        "arr_squared = arr ** 2\n",
        "\n",
        "print(arr_times_two, arr_squared)"
      ]
    },
    {
      "cell_type": "markdown",
      "id": "1dbc4af1-e85e-450c-bd6e-ab3ee9d6ce46",
      "metadata": {
        "id": "1dbc4af1-e85e-450c-bd6e-ab3ee9d6ce46"
      },
      "source": [
        "It's also possible to perform maths using two NumPy arrays, but only if they are the same size. For instance, adding one array to another."
      ]
    },
    {
      "cell_type": "code",
      "execution_count": null,
      "id": "0b0d6ae0-ea67-4115-b4c6-fa889a7f5b25",
      "metadata": {
        "id": "0b0d6ae0-ea67-4115-b4c6-fa889a7f5b25",
        "outputId": "e569bdba-a137-494a-ba39-41bff8312ea9",
        "colab": {
          "base_uri": "https://localhost:8080/"
        }
      },
      "outputs": [
        {
          "output_type": "stream",
          "name": "stdout",
          "text": [
            "[ 3  8 15 24 35]\n"
          ]
        }
      ],
      "source": [
        "arr_summed = arr_times_two + arr_squared\n",
        "print(arr_summed)"
      ]
    },
    {
      "cell_type": "markdown",
      "id": "b354d534-3d04-42be-affa-954e2c08168b",
      "metadata": {
        "id": "b354d534-3d04-42be-affa-954e2c08168b"
      },
      "source": [
        "NumPy also includes useful mathematical functions. For example, taking the logarithm or exponential of elements of an array."
      ]
    },
    {
      "cell_type": "code",
      "execution_count": null,
      "id": "a16939eb-148c-4f4e-89e6-33cf9c79c5d1",
      "metadata": {
        "id": "a16939eb-148c-4f4e-89e6-33cf9c79c5d1",
        "outputId": "31fb5880-987b-4305-c406-1203d051d5f2",
        "colab": {
          "base_uri": "https://localhost:8080/"
        }
      },
      "outputs": [
        {
          "output_type": "stream",
          "name": "stdout",
          "text": [
            "[0.         0.69314718 1.09861229 1.38629436 1.60943791] [  2.71828183   7.3890561   20.08553692  54.59815003 148.4131591 ]\n"
          ]
        }
      ],
      "source": [
        "# Useful functions\n",
        "log_arr = np.log(arr)\n",
        "exp_arr = np.exp(arr)\n",
        "print(log_arr,exp_arr)"
      ]
    },
    {
      "cell_type": "markdown",
      "id": "497a9d7e-bf47-42bc-bdf4-d302ad03a5f2",
      "metadata": {
        "id": "497a9d7e-bf47-42bc-bdf4-d302ad03a5f2"
      },
      "source": [
        "As a note that will be particularly useful for the End of Session Task, if you try to take the log of 0 using `np.log` you will get a warning and the resultant element will be infinite."
      ]
    },
    {
      "cell_type": "code",
      "execution_count": null,
      "id": "155af08b-126c-4680-a3d8-92c6768a221a",
      "metadata": {
        "id": "155af08b-126c-4680-a3d8-92c6768a221a",
        "outputId": "88c38039-508d-4aba-86aa-65dc18210654",
        "colab": {
          "base_uri": "https://localhost:8080/"
        }
      },
      "outputs": [
        {
          "output_type": "stream",
          "name": "stderr",
          "text": [
            "/tmp/ipython-input-4213238566.py:1: RuntimeWarning: divide by zero encountered in log\n",
            "  np.log(log_arr)\n"
          ]
        },
        {
          "output_type": "execute_result",
          "data": {
            "text/plain": [
              "array([       -inf, -0.36651292,  0.09404783,  0.32663426,  0.475885  ])"
            ]
          },
          "metadata": {},
          "execution_count": 24
        }
      ],
      "source": [
        "np.log(log_arr)"
      ]
    },
    {
      "cell_type": "markdown",
      "id": "58435cff-8e5d-427b-9060-506872e4c7ef",
      "metadata": {
        "id": "58435cff-8e5d-427b-9060-506872e4c7ef"
      },
      "source": [
        "One way to avoid having zeros in any array is to use the `np.clip()` function. This function will clip any values which are not within the bounds set in the function call. For example, the following code will clip the zero value to 0.01."
      ]
    },
    {
      "cell_type": "code",
      "execution_count": null,
      "id": "17d77ac1-0d65-4ed9-9dd2-30ab1b9e8cf9",
      "metadata": {
        "id": "17d77ac1-0d65-4ed9-9dd2-30ab1b9e8cf9",
        "outputId": "bd16210b-09fd-4641-8050-5a1a0c9b291f",
        "colab": {
          "base_uri": "https://localhost:8080/"
        }
      },
      "outputs": [
        {
          "output_type": "execute_result",
          "data": {
            "text/plain": [
              "array([0.01      , 0.69314718, 1.09861229, 1.38629436, 1.60943791])"
            ]
          },
          "metadata": {},
          "execution_count": 25
        }
      ],
      "source": [
        "np.clip(log_arr, 0.01, 2.)"
      ]
    },
    {
      "cell_type": "markdown",
      "id": "62843c23-8fe7-4b5f-8b4e-172515330db2",
      "metadata": {
        "id": "62843c23-8fe7-4b5f-8b4e-172515330db2"
      },
      "source": [
        "<div class=\"alert alert-success\">\n",
        "<b>Task 3.2: Subtract 10 from the `data` array, clip the array so that no elements are zero and take its logarithm.<br></b>\n",
        "</div>"
      ]
    },
    {
      "cell_type": "code",
      "execution_count": null,
      "id": "3ba2ab4d-697b-458e-82b4-aba20c7035c5",
      "metadata": {
        "id": "3ba2ab4d-697b-458e-82b4-aba20c7035c5",
        "outputId": "8585ace0-5b0a-4424-8084-61a15ac0c429",
        "colab": {
          "base_uri": "https://localhost:8080/"
        }
      },
      "outputs": [
        {
          "output_type": "stream",
          "name": "stdout",
          "text": [
            "[ 0 10 20 30 40]\n",
            "[1.e-03 1.e+01 2.e+01 3.e+01 4.e+01]\n",
            "[-6.90775528  2.30258509  2.99573227  3.40119738  3.68887945]\n"
          ]
        }
      ],
      "source": [
        "#Enter code for Task 3.2 here\n",
        "data = np.linspace(10, 50, 5, dtype=np.int16) - 10  # Broadcast.\n",
        "print(data)\n",
        "data = np.clip(data, a_min=1e-3, a_max=None)\n",
        "print(data)\n",
        "data = np.log(data)\n",
        "print(data)"
      ]
    },
    {
      "cell_type": "markdown",
      "id": "f26fa3bb-fc83-461a-a738-d50629134d1e",
      "metadata": {
        "id": "f26fa3bb-fc83-461a-a738-d50629134d1e"
      },
      "source": [
        "### 3.2 Indexing and slicing"
      ]
    },
    {
      "cell_type": "markdown",
      "id": "6ef0bd66-5f15-4307-87cd-8ddc61c5ed4a",
      "metadata": {
        "id": "6ef0bd66-5f15-4307-87cd-8ddc61c5ed4a"
      },
      "source": [
        "It's often necessary to check the value of one or more elements inside an array, and if the array is particularly long this can be difficult from just visually inspecting the array. Thankfully, NumPy has an easy way to access individual elements of an array, indexing.\n",
        "\n",
        "A single element of a NumPy array can be indexed using square brackets."
      ]
    },
    {
      "cell_type": "code",
      "execution_count": null,
      "id": "67a7f1e2-6937-4fc7-badc-959c4c244a81",
      "metadata": {
        "id": "67a7f1e2-6937-4fc7-badc-959c4c244a81",
        "outputId": "5c62209e-f840-4ef5-b5d6-7b71ebc6c050",
        "colab": {
          "base_uri": "https://localhost:8080/"
        }
      },
      "outputs": [
        {
          "output_type": "stream",
          "name": "stdout",
          "text": [
            "First element: 1\n"
          ]
        }
      ],
      "source": [
        "print(\"First element:\", arr[0])"
      ]
    },
    {
      "cell_type": "markdown",
      "id": "312f41df-3ae5-4217-b4d9-ca44c87533f6",
      "metadata": {
        "id": "312f41df-3ae5-4217-b4d9-ca44c87533f6"
      },
      "source": [
        "Remember, in Python indexing starts from 0 (NOT 1!). It's also possible to index from the end of an array by using a minus sign."
      ]
    },
    {
      "cell_type": "code",
      "execution_count": null,
      "id": "1a75abb0-87aa-41b8-85da-a71e20c1e790",
      "metadata": {
        "id": "1a75abb0-87aa-41b8-85da-a71e20c1e790",
        "outputId": "b3d65585-ed48-41f4-d24b-58b5c8d5846f",
        "colab": {
          "base_uri": "https://localhost:8080/"
        }
      },
      "outputs": [
        {
          "output_type": "stream",
          "name": "stdout",
          "text": [
            "Last element: 5\n",
            "Third last element: 3\n"
          ]
        }
      ],
      "source": [
        "print(\"Last element:\", arr[-1])\n",
        "\n",
        "print(\"Third last element:\", arr[-3])"
      ]
    },
    {
      "cell_type": "markdown",
      "id": "89e9176f-0dfd-48f1-bbcd-dd422625e0d6",
      "metadata": {
        "id": "89e9176f-0dfd-48f1-bbcd-dd422625e0d6"
      },
      "source": [
        "Use of square brackets can also be used to access more than one element of an array. This is called slicing. To slice an array, a colon (:) is used. The colon is placed between the elements to slice between, e.g."
      ]
    },
    {
      "cell_type": "code",
      "execution_count": null,
      "id": "1cba6d7c-3092-4a34-adad-a61686dc66a0",
      "metadata": {
        "id": "1cba6d7c-3092-4a34-adad-a61686dc66a0",
        "outputId": "5b9a35a5-783f-498e-a0fc-d1535664805f",
        "colab": {
          "base_uri": "https://localhost:8080/"
        }
      },
      "outputs": [
        {
          "output_type": "stream",
          "name": "stdout",
          "text": [
            "First three elements: [1 2 3]\n",
            "First three elements: [1 2 3]\n",
            "Last three elements: [3 4 5]\n"
          ]
        }
      ],
      "source": [
        "print(\"First three elements:\", arr[0:3])\n",
        "\n",
        "#Slicing from the first element or to the last element doesn't need the 0 to be included\n",
        "print(\"First three elements:\", arr[:3])\n",
        "print(\"Last three elements:\", arr[-3:])"
      ]
    },
    {
      "cell_type": "markdown",
      "id": "ccb62091-0deb-467f-a1e7-8e73a3b29caa",
      "metadata": {
        "jp-MarkdownHeadingCollapsed": true,
        "id": "ccb62091-0deb-467f-a1e7-8e73a3b29caa"
      },
      "source": [
        "<div class=\"alert alert-success\">\n",
        "<b>Task 3.3: Print the first two elements and last element of the logarithm of `data`.<br></b>\n",
        "</div>"
      ]
    },
    {
      "cell_type": "code",
      "execution_count": null,
      "id": "817c3dce-ab09-4a49-83f4-4af4a7dbbf52",
      "metadata": {
        "id": "817c3dce-ab09-4a49-83f4-4af4a7dbbf52",
        "outputId": "1d7ebfd1-7a31-419c-aee7-47c77cfab102",
        "colab": {
          "base_uri": "https://localhost:8080/"
        }
      },
      "outputs": [
        {
          "output_type": "stream",
          "name": "stdout",
          "text": [
            "[-6.90775528  2.30258509]\n",
            "3.6888794541139363\n"
          ]
        }
      ],
      "source": [
        "#Enter code for Task 3.3 here\n",
        "print(data[:2])\n",
        "print(data[-1])"
      ]
    },
    {
      "cell_type": "markdown",
      "id": "4220b5e0-5ff1-4cef-aab9-366f1752a183",
      "metadata": {
        "id": "4220b5e0-5ff1-4cef-aab9-366f1752a183"
      },
      "source": [
        "## 4. Functions\n",
        "<a id='functions'></a>\n",
        "\n",
        "You were previously introduced to functions in first year programming, and we've seen a number of them used in this notebook already! In essence, functions let you reuse code, which can be incredibly useful for carrying out the same actions again and again."
      ]
    },
    {
      "cell_type": "markdown",
      "id": "6b214fbb-94df-4573-bdf8-93103d3f0cf7",
      "metadata": {
        "id": "6b214fbb-94df-4573-bdf8-93103d3f0cf7"
      },
      "source": [
        "We've already used one function extensively in this notebook, the `print()` function."
      ]
    },
    {
      "cell_type": "code",
      "execution_count": null,
      "id": "a54bf0e7-0ac6-48bb-8d1c-6d3426c43daf",
      "metadata": {
        "id": "a54bf0e7-0ac6-48bb-8d1c-6d3426c43daf",
        "outputId": "23913182-9e53-4a59-e70c-a4a866d706ec",
        "colab": {
          "base_uri": "https://localhost:8080/"
        }
      },
      "outputs": [
        {
          "output_type": "stream",
          "name": "stdout",
          "text": [
            "Hello\n"
          ]
        }
      ],
      "source": [
        "print('Hello')"
      ]
    },
    {
      "cell_type": "markdown",
      "id": "228d9053-0436-493f-801b-77b922c89987",
      "metadata": {
        "id": "228d9053-0436-493f-801b-77b922c89987"
      },
      "source": [
        "Using a function is known as \"calling\" a function, the above statement calls the `print` function with an argument of 'Hello'. Functions arguments are the inputs to a function and go inside the brackets of a function call."
      ]
    },
    {
      "cell_type": "markdown",
      "id": "f97c61a9-2922-47ec-9655-857d37128559",
      "metadata": {
        "id": "f97c61a9-2922-47ec-9655-857d37128559"
      },
      "source": [
        "Now you know how functions are used, but how do you define your own functions? In Python you define them with `def`."
      ]
    },
    {
      "cell_type": "code",
      "execution_count": null,
      "id": "7f43793e-973f-4f71-b1c3-cd828fc4993a",
      "metadata": {
        "id": "7f43793e-973f-4f71-b1c3-cd828fc4993a"
      },
      "outputs": [],
      "source": [
        "def square(x):\n",
        "    return(x ** 2)"
      ]
    },
    {
      "cell_type": "markdown",
      "id": "a3c5707c-6abb-4afd-b43d-b7a2b31e6192",
      "metadata": {
        "id": "a3c5707c-6abb-4afd-b43d-b7a2b31e6192"
      },
      "source": [
        "The above code is known as a function definition, i.e. where a function is defined. Let's go through this in detail:\n",
        "\n",
        "- The function definition starts with `def`.\n",
        "- After `def` comes the name of the function.\n",
        "- Then, the input to the function (the arguments) are included in brackets immediately after the function name. The arguments can have any name, but this variable name should only be used within the function, it shouldn't be a variable name used outside of the function.\n",
        "- A colon follows the brackets.\n",
        "- The contents of the functions (what it does) is included on the lines immediately following the first line. The Python interpreter only includes lines that have been indented after the colon. The next line which is not indented is read as being outside the function.\n",
        "- Most functions include a return statement. This tells the Python interpreter what the output of the function is. In the case above, the output is the square of the input."
      ]
    },
    {
      "cell_type": "markdown",
      "id": "56886d1c-fdc6-47c0-994f-8e6f78c9fb8c",
      "metadata": {
        "id": "56886d1c-fdc6-47c0-994f-8e6f78c9fb8c"
      },
      "source": [
        "The code above only defines the function `square()`, it doesn't call the function (i.e. use it). Let's try calling the function with a few different arguments."
      ]
    },
    {
      "cell_type": "code",
      "execution_count": null,
      "id": "52c78a96-2270-433b-bfe1-181c3ad56a90",
      "metadata": {
        "id": "52c78a96-2270-433b-bfe1-181c3ad56a90",
        "outputId": "1afedd40-1283-46f8-d7d7-e535114c147d",
        "colab": {
          "base_uri": "https://localhost:8080/"
        }
      },
      "outputs": [
        {
          "output_type": "execute_result",
          "data": {
            "text/plain": [
              "9"
            ]
          },
          "metadata": {},
          "execution_count": 47
        }
      ],
      "source": [
        "square(3)"
      ]
    },
    {
      "cell_type": "code",
      "execution_count": null,
      "id": "6a3de092-1e24-4ddb-b105-3ff76eb210aa",
      "metadata": {
        "id": "6a3de092-1e24-4ddb-b105-3ff76eb210aa",
        "outputId": "1c8edfdb-331f-45fb-ddab-7c555af432b7",
        "colab": {
          "base_uri": "https://localhost:8080/"
        }
      },
      "outputs": [
        {
          "output_type": "execute_result",
          "data": {
            "text/plain": [
              "11.559999999999999"
            ]
          },
          "metadata": {},
          "execution_count": 48
        }
      ],
      "source": [
        "square(3.4)"
      ]
    },
    {
      "cell_type": "code",
      "execution_count": null,
      "id": "b502c498-a0cd-407a-92d4-ed5c48c3d241",
      "metadata": {
        "id": "b502c498-a0cd-407a-92d4-ed5c48c3d241",
        "outputId": "5e3b2d5e-01d2-453b-fc4a-ecd638ceb098",
        "colab": {
          "base_uri": "https://localhost:8080/",
          "height": 210
        }
      },
      "outputs": [
        {
          "output_type": "error",
          "ename": "TypeError",
          "evalue": "unsupported operand type(s) for ** or pow(): 'list' and 'int'",
          "traceback": [
            "\u001b[0;31m---------------------------------------------------------------------------\u001b[0m",
            "\u001b[0;31mTypeError\u001b[0m                                 Traceback (most recent call last)",
            "\u001b[0;32m/tmp/ipython-input-2130204419.py\u001b[0m in \u001b[0;36m<cell line: 0>\u001b[0;34m()\u001b[0m\n\u001b[0;32m----> 1\u001b[0;31m \u001b[0msquare\u001b[0m\u001b[0;34m(\u001b[0m\u001b[0;34m[\u001b[0m\u001b[0;36m3\u001b[0m\u001b[0;34m,\u001b[0m\u001b[0;36m4\u001b[0m\u001b[0;34m,\u001b[0m\u001b[0;36m5\u001b[0m\u001b[0;34m]\u001b[0m\u001b[0;34m)\u001b[0m \u001b[0;31m#Should get an error\u001b[0m\u001b[0;34m\u001b[0m\u001b[0;34m\u001b[0m\u001b[0m\n\u001b[0m",
            "\u001b[0;32m/tmp/ipython-input-690428136.py\u001b[0m in \u001b[0;36msquare\u001b[0;34m(x)\u001b[0m\n\u001b[1;32m      1\u001b[0m \u001b[0;32mdef\u001b[0m \u001b[0msquare\u001b[0m\u001b[0;34m(\u001b[0m\u001b[0mx\u001b[0m\u001b[0;34m)\u001b[0m\u001b[0;34m:\u001b[0m\u001b[0;34m\u001b[0m\u001b[0;34m\u001b[0m\u001b[0m\n\u001b[0;32m----> 2\u001b[0;31m     \u001b[0;32mreturn\u001b[0m\u001b[0;34m(\u001b[0m\u001b[0mx\u001b[0m \u001b[0;34m**\u001b[0m \u001b[0;36m2\u001b[0m\u001b[0;34m)\u001b[0m\u001b[0;34m\u001b[0m\u001b[0;34m\u001b[0m\u001b[0m\n\u001b[0m",
            "\u001b[0;31mTypeError\u001b[0m: unsupported operand type(s) for ** or pow(): 'list' and 'int'"
          ]
        }
      ],
      "source": [
        "square([3,4,5]) #Should get an error"
      ]
    },
    {
      "cell_type": "markdown",
      "id": "c44dcd41-e361-4200-9bab-33ac87b67df5",
      "metadata": {
        "id": "c44dcd41-e361-4200-9bab-33ac87b67df5"
      },
      "source": [
        "The code cell above should throw an error, as it's not possible to square a list!\n",
        "\n",
        "However, it is possible to square a NumPy array:"
      ]
    },
    {
      "cell_type": "code",
      "execution_count": null,
      "id": "8d503bff-1edd-41ea-bcd0-ccf5b9ae0af7",
      "metadata": {
        "id": "8d503bff-1edd-41ea-bcd0-ccf5b9ae0af7",
        "outputId": "e6aecaac-3620-42c6-a91c-283238641b23",
        "colab": {
          "base_uri": "https://localhost:8080/"
        }
      },
      "outputs": [
        {
          "output_type": "execute_result",
          "data": {
            "text/plain": [
              "array([ 1,  4,  9, 16, 25])"
            ]
          },
          "metadata": {},
          "execution_count": 50
        }
      ],
      "source": [
        "square(arr)"
      ]
    },
    {
      "cell_type": "markdown",
      "id": "d5d75c37-8a4a-4929-a0f4-5574ba4106e9",
      "metadata": {
        "id": "d5d75c37-8a4a-4929-a0f4-5574ba4106e9"
      },
      "source": [
        "### 4.1 Multiple arguments"
      ]
    },
    {
      "cell_type": "markdown",
      "id": "ef977a3b-9fda-4489-b893-5494da2d811e",
      "metadata": {
        "id": "ef977a3b-9fda-4489-b893-5494da2d811e"
      },
      "source": [
        "Functions can take multiple arguments and can return multiple objects. If using multiple arguments, these should be separated by a comma."
      ]
    },
    {
      "cell_type": "code",
      "execution_count": null,
      "id": "f21f5254-a0ae-43c8-b970-61bdf3ee41e2",
      "metadata": {
        "id": "f21f5254-a0ae-43c8-b970-61bdf3ee41e2",
        "outputId": "a75f48e2-1c2e-4591-e1ea-2769ff72697a",
        "colab": {
          "base_uri": "https://localhost:8080/"
        }
      },
      "outputs": [
        {
          "output_type": "stream",
          "name": "stdout",
          "text": [
            "Sum of 4 and 5: 9\n"
          ]
        }
      ],
      "source": [
        "def add(a, b):\n",
        "    return(a + b)\n",
        "\n",
        "print(\"Sum of 4 and 5:\", add(4, 5))"
      ]
    },
    {
      "cell_type": "markdown",
      "id": "d519186e-f280-4766-bfe4-e732c7e54421",
      "metadata": {
        "id": "d519186e-f280-4766-bfe4-e732c7e54421"
      },
      "source": [
        "<div class=\"alert alert-success\">\n",
        "<b>Task 4.1: Write a function to calculate the total number of moles of reactant and product in the reaction $A \\rightarrow 2B$, where the arguments should be initial moles of A and the extent of reaction $\\chi$. Use the function to calculate the total number of moles at $\\chi = 0.4$ when the reaction started with 3 mol of A.<br></b>\n",
        "<br>\n",
        "Hint: The number of moles of reactant equals 1 - $\\chi$. What are the number of moles of product with respect to $\\chi$?\n",
        "</div>"
      ]
    },
    {
      "cell_type": "code",
      "execution_count": null,
      "id": "d948eab9-1d6e-4b1c-996b-14d0a06868ab",
      "metadata": {
        "id": "d948eab9-1d6e-4b1c-996b-14d0a06868ab"
      },
      "outputs": [],
      "source": [
        "#Enter code for Task 4.1 here\n",
        "def reaction(mol_a: int or float, conversion: float):\n",
        "  n_a_consumed = (1 - 0.4)  # Consumed reactant: 100% - (reaction percentage),\n",
        "  n_b = 2 * n_a_consumed  # A -> 2B.\n",
        "  return n_b"
      ]
    },
    {
      "cell_type": "markdown",
      "id": "d609b02a-a3c3-47f5-adce-679117add890",
      "metadata": {
        "id": "d609b02a-a3c3-47f5-adce-679117add890"
      },
      "source": [
        "## 5. Lambda functions\n",
        "<a id='lambda'></a>\n",
        "\n",
        "Python also allows you to define small functions of a single output using `lambda`.\n",
        "\n",
        "They are useful for short, throwaway mathematical functions. An example is shown below, where the variable `cube` is assigned a lambda function. The arguments immediately follow the `lambda`, with the output following a colon. Lambda functions should always be single lines of code."
      ]
    },
    {
      "cell_type": "code",
      "execution_count": null,
      "id": "469e76ba-dd86-4609-9523-aea0cb2babe2",
      "metadata": {
        "id": "469e76ba-dd86-4609-9523-aea0cb2babe2",
        "outputId": "7d02a402-c15c-4e70-feaa-38b0fc46f43e",
        "colab": {
          "base_uri": "https://localhost:8080/"
        }
      },
      "outputs": [
        {
          "output_type": "execute_result",
          "data": {
            "text/plain": [
              "8"
            ]
          },
          "metadata": {},
          "execution_count": 54
        }
      ],
      "source": [
        "# A lambda function to compute x^3\n",
        "cube = lambda x: x**3\n",
        "\n",
        "cube(2)"
      ]
    },
    {
      "cell_type": "markdown",
      "id": "6c2bcd02-7348-4f3f-8d93-2d6d4499ea0b",
      "metadata": {
        "id": "6c2bcd02-7348-4f3f-8d93-2d6d4499ea0b"
      },
      "source": [
        "Lambda functions can take multiple arguments."
      ]
    },
    {
      "cell_type": "code",
      "execution_count": null,
      "id": "8df72e66-d87d-4036-a203-56f5892cd6b3",
      "metadata": {
        "id": "8df72e66-d87d-4036-a203-56f5892cd6b3",
        "outputId": "f4a1accd-281b-485b-a22f-907632419cc3",
        "colab": {
          "base_uri": "https://localhost:8080/"
        }
      },
      "outputs": [
        {
          "output_type": "execute_result",
          "data": {
            "text/plain": [
              "6"
            ]
          },
          "metadata": {},
          "execution_count": 55
        }
      ],
      "source": [
        "# A lambda function to multiply two variables\n",
        "multiply = lambda x, y: x * y\n",
        "\n",
        "multiply(2,3)"
      ]
    },
    {
      "cell_type": "markdown",
      "id": "12df3734-9c6d-4e8f-8fa9-e806771cebb6",
      "metadata": {
        "id": "12df3734-9c6d-4e8f-8fa9-e806771cebb6"
      },
      "source": [
        "<div class=\"alert alert-success\">\n",
        "<b>Task 5.1: Write a lambda function to compute the mole fraction of product in the reaction $A \\rightarrow 2B$, where the only required argument is the extent of reaction. Use the function to calculate the mole fraction of B at $\\chi = 0.5$.<br></b>\n",
        "</div>"
      ]
    },
    {
      "cell_type": "code",
      "execution_count": null,
      "id": "77f22e8c-ceee-4d1b-8322-05f4c7caf54f",
      "metadata": {
        "id": "77f22e8c-ceee-4d1b-8322-05f4c7caf54f",
        "outputId": "989cdacc-c713-46ed-b815-f58ff2ee3f9b",
        "colab": {
          "base_uri": "https://localhost:8080/"
        }
      },
      "outputs": [
        {
          "output_type": "stream",
          "name": "stdout",
          "text": [
            "1.0\n"
          ]
        }
      ],
      "source": [
        "#Enter code for Task 5.1 here\n",
        "b_frac = lambda x: 2 * (1 - x)  # Combine both operations performed in the function.\n",
        "print(b_frac(0.5))"
      ]
    },
    {
      "cell_type": "markdown",
      "id": "c77f07f2-2efc-45b6-94e7-450bed8aa41f",
      "metadata": {
        "id": "c77f07f2-2efc-45b6-94e7-450bed8aa41f"
      },
      "source": [
        "## End of Session Task\n",
        "<a id='final-task'></a>\n",
        "\n",
        "Write a function called `gibbs_energy` that calculates the Gibbs energy change at different extents of reaction ($\\chi$) for a reaction of the form:\n",
        "\n",
        "<div style=\"text-align:center\">$A(g) \\rightarrow 2B(g)$</div><br>\n",
        "\n",
        "Assume 1 mol of A at $\\chi = 0$.\n",
        "\n",
        "The Gibbs energy change is the sum of contributions from the change in Gibbs energy between reactant and product and the Gibbs energy change due to mixing. The Gibbs energy change due to mixing is given by the equation:\n",
        "\n",
        "<div style=\"text-align:center\">$\\Delta G_{\\text{mix}}(\\xi) = RT \\Big[ n_A\\ln(x_A) + n_B\\ln(x_B) \\Big]$</div>\n",
        "\n",
        "The function should take as arguments:\n",
        "- The change in Gibbs energy between the reactant and product.\n",
        "- The temperature at which the reaction takes place.\n",
        "\n",
        "The function should return:\n",
        "- A 1D NumPy array representing the extent of reaction.\n",
        "- A 1D NumPy array representing the Gibbs energy change for each extent of reaction."
      ]
    },
    {
      "cell_type": "code",
      "execution_count": null,
      "id": "3a11be95-8273-415c-8ca6-1597f2426772",
      "metadata": {
        "id": "3a11be95-8273-415c-8ca6-1597f2426772"
      },
      "outputs": [],
      "source": [
        "#Enter code for End of Session Task here\n",
        "def gibbs_energy(delta_G, T):\n",
        "  conv_rate = np.linspace(0.00, 1.00, 100)  # 1 pt/%,\n",
        "  r = 8.314  # Gas constant and temperature,\n",
        "\n",
        "  \"\"\"Calculate the total number of mol of A left at each point of the reaction,\n",
        "  and the amount of B present at each conversion rate point.\"\"\"\n",
        "  n_a = np.ones(shape=(100)) - conv_rate  # n_a = (1 - x),\n",
        "  n_b = 2*conv_rate  # A -> 2B.\n",
        "\n",
        "  \"\"\"Calculate total number of mol present in the reaction, and use it to\n",
        "  compute fractions of A and B in the reaction.\"\"\"\n",
        "  n_tot = n_a + n_b\n",
        "  frac_a, frac_b = n_a / n_tot, n_b / n_tot\n",
        "\n",
        "  \"\"\"Compute ΔG, mixing contribution + reaction.\"\"\"\n",
        "  dG_mixing = r * T * (n_a*np.log(frac_a) + n_b*np.log(frac_b))\n",
        "  dG_reaction = delta_G * conv_rate\n",
        "\n",
        "  dG = np.nan_to_num(dG_mixing, nan=0.0) + dG_reaction  # Avoid NaN!\n",
        "\n",
        "  return conv_rate, dG\n"
      ]
    },
    {
      "cell_type": "markdown",
      "id": "9b301f4f-2862-473c-b06e-9f24d5c0fccd",
      "metadata": {
        "id": "9b301f4f-2862-473c-b06e-9f24d5c0fccd"
      },
      "source": [
        "Once you have completed the End of Session Task, run the code cell below to use your code to create an interactive plot of the Gibbs energy of a reaction based on the difference in Gibbs energy of reactant and product!"
      ]
    },
    {
      "cell_type": "code",
      "execution_count": null,
      "id": "8dbea88e-dfa4-440d-b304-0ab99c557b74",
      "metadata": {
        "id": "8dbea88e-dfa4-440d-b304-0ab99c557b74",
        "outputId": "40c59e30-7bf5-4318-bacc-a20545303c74",
        "colab": {
          "base_uri": "https://localhost:8080/",
          "height": 543,
          "referenced_widgets": [
            "03171e509e48424884b915aad306140f",
            "97b3ea2de3f9475abb92dd9480421921",
            "55b33fbecbc9427498c83d37630cb42b",
            "1c85ef0a85de46b5899209bd8c5ec490",
            "fa9ea97e3be548b5881155c4d95edfd4",
            "fa625e8c000340efb01d61690bde302e",
            "0edc7ca72b824ecf87872e742249c039",
            "847a5d7d0ed84026b979f1b242a107fd",
            "a619e8754b3840889edfa0ef8d4d6a1d",
            "47b1bda4a44e430bb4956ae3e665e344"
          ]
        }
      },
      "outputs": [
        {
          "output_type": "display_data",
          "data": {
            "text/plain": [
              "interactive(children=(FloatSlider(value=0.0, description='ΔG° (J/mol)', max=20000.0, min=-20000.0, step=1000.0…"
            ],
            "application/vnd.jupyter.widget-view+json": {
              "version_major": 2,
              "version_minor": 0,
              "model_id": "03171e509e48424884b915aad306140f"
            }
          },
          "metadata": {}
        }
      ],
      "source": [
        "from ipywidgets import interact, FloatSlider\n",
        "import matplotlib.pyplot as plt\n",
        "import numpy as np\n",
        "\n",
        "def plot_gibbs(delta_G, T=298):\n",
        "    xi, dG = gibbs_energy(delta_G, T)\n",
        "\n",
        "    plt.figure(figsize=(6,4))\n",
        "    plt.plot(xi, dG, lw=2)\n",
        "    plt.axhline(0, color='k', ls='--')\n",
        "    plt.xlabel(\"Extent of reaction, ξ\")\n",
        "    plt.ylabel(\"ΔG (J/mol)\")\n",
        "    plt.title(f\"Gibbs Energy Profile (ΔG° = {delta_G:.0f} J/mol)\")\n",
        "    plt.grid(True, alpha=0.3)\n",
        "    plt.show()\n",
        "\n",
        "\n",
        "# Interactive widget\n",
        "interact(\n",
        "    plot_gibbs,\n",
        "    delta_G=FloatSlider(value=0, min=-2e4, max=2e4, step=1000, description=\"ΔG° (J/mol)\")\n",
        ");"
      ]
    }
  ],
}

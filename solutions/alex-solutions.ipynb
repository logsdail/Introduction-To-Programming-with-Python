{
 "cells": [
  {
   "cell_type": "markdown",
   "id": "df9906a4-08f7-4c0d-b03a-a896fa30e882",
   "metadata": {
    "id": "df9906a4-08f7-4c0d-b03a-a896fa30e882"
   },
   "source": [
    "# Programming 1 – Calculations in Python\n",
    "\n",
    "Authors:\n",
    "- Dr Tom Slater\n",
    "\n",
    "Email: slatert2@cardiff.ac.uk\n",
    "\n",
    "## Learning Objectives\n",
    "-\tUse Jupyter notebooks to execute Python code.\n",
    "-\tDefine and call functions, including single-line functions using lambda.\n",
    "-\tUse Python functions to calculate basic thermodynamic quantities.\n",
    "\n",
    "## Table of Contents\n",
    "\n",
    "1. [Variables and Types](#variables)       \n",
    "2. [Mathematical Operations](#maths)\n",
    "3. [NumPy](#numpy)\n",
    "4. [Functions](#functions)\n",
    "5. [Lambda Functions](#lambda)\n",
    "6. [End of Session Task](#final-task)\n",
    "\n",
    "### Further reading for this topic\n",
    "\n",
    "- [Software carpentry lessons](http://swcarpentry.github.io/python-novice-gapminder/index.html)\n",
    "\n",
    "**<span style=\"color:black\">Jupyter Cheat Sheet</span>**\n",
    "- To run the currently highlighted cell and move focus to the next cell, hold <kbd>&#x21E7; Shift</kbd> and press <kbd>&#x23ce; Enter</kbd>;\n",
    "- To run the currently highlighted cell and keep focus in the same cell, hold <kbd>&#x21E7; Ctrl</kbd> and press <kbd>&#x23ce; Enter</kbd>;\n",
    "- To get help for a specific function, place the cursor within the function's brackets, hold <kbd>&#x21E7; Shift</kbd>, and press <kbd>&#x21E5; Tab</kbd>;"
   ]
  },
  {
   "cell_type": "markdown",
   "id": "ce563f6f-d25f-4a3b-a536-e0fd0cd7df78",
   "metadata": {
    "id": "ce563f6f-d25f-4a3b-a536-e0fd0cd7df78"
   },
   "source": [
    "## 1. Variables and Types\n",
    "<a id='variables'></a>\n",
    "\n",
    "Python variables store data. Variables can have almost any name but it's best to use an understandable name. For example:"
   ]
  },
  {
   "cell_type": "code",
   "execution_count": null,
   "id": "172b1bfe-8f9e-4561-ad46-7f0fe0275745",
   "metadata": {
    "id": "172b1bfe-8f9e-4561-ad46-7f0fe0275745"
   },
   "outputs": [],
   "source": [
    "mass_of_electron = 9.1093837e-31"
   ]
  },
  {
   "cell_type": "markdown",
   "id": "968ed4b1-b055-4ea1-8536-ad6996a37c5a",
   "metadata": {
    "id": "968ed4b1-b055-4ea1-8536-ad6996a37c5a"
   },
   "source": [
    "The most used style guide for programming in Python is [PEP8](https://peps.python.org/pep-0008/). This style guide notes that variables should include only lowercase letters and words should be separated by underscores. Hence the name used above!"
   ]
  },
  {
   "cell_type": "markdown",
   "id": "e0496e67-3dc1-411e-87e3-80f5d0851e53",
   "metadata": {
    "id": "e0496e67-3dc1-411e-87e3-80f5d0851e53"
   },
   "source": [
    "Variables can have a variety of different types. To determine the type of a variable, we can apply the type() function to the variable."
   ]
  },
  {
   "cell_type": "code",
   "execution_count": null,
   "id": "e8c14913-57ee-418b-a138-6ec4b4a8f438",
   "metadata": {
    "colab": {
     "base_uri": "https://localhost:8080/"
    },
    "id": "e8c14913-57ee-418b-a138-6ec4b4a8f438",
    "outputId": "1ab5f58c-da0c-4d0b-d257-ba032bc00e68"
   },
   "outputs": [
    {
     "data": {
      "text/plain": [
       "float"
      ]
     },
     "execution_count": 2,
     "metadata": {},
     "output_type": "execute_result"
    }
   ],
   "source": [
    "type(mass_of_electron)"
   ]
  },
  {
   "cell_type": "markdown",
   "id": "e91fbddc-565b-4091-a174-89c23ba10ce9",
   "metadata": {
    "id": "e91fbddc-565b-4091-a174-89c23ba10ce9"
   },
   "source": [
    "The most common types (most of which we saw in first year programming) include:\n",
    "\n",
    "- Integers (int): Whole numbers.\n",
    "- Floating point numbers (float): Any real number including a decimal point.\n",
    "- Strings (str): Groups of characters, e.g. a word or sentence.\n",
    "- Booleans (bool): True or false.\n",
    "- Lists (list): Collection of multiple items.\n",
    "\n",
    "As examples:"
   ]
  },
  {
   "cell_type": "code",
   "execution_count": null,
   "id": "12ce4b1d-5b80-4811-a104-8c5687ccd7d1",
   "metadata": {
    "colab": {
     "base_uri": "https://localhost:8080/"
    },
    "id": "12ce4b1d-5b80-4811-a104-8c5687ccd7d1",
    "outputId": "5cc0fc9f-0726-4144-b0c0-ebd43b76dfbb"
   },
   "outputs": [
    {
     "name": "stdout",
     "output_type": "stream",
     "text": [
      "<class 'int'>\n",
      "<class 'float'>\n",
      "<class 'str'>\n",
      "<class 'bool'>\n",
      "<class 'list'>\n"
     ]
    }
   ],
   "source": [
    "quantum_number = 2\n",
    "print(type(quantum_number))\n",
    "\n",
    "mass_of_electron = 9.1093837e-31\n",
    "print(type(mass_of_electron))\n",
    "\n",
    "scientist_name = \"Erwin Schrödinger\"\n",
    "print(type(scientist_name))\n",
    "\n",
    "cat_alive = True\n",
    "print(type(cat_alive))\n",
    "\n",
    "first_five_numbers = [1, 2, 3, 4, 5]\n",
    "print(type(first_five_numbers))"
   ]
  },
  {
   "cell_type": "markdown",
   "id": "a8520fe7-832c-483c-bcc2-bcde281c6213",
   "metadata": {
    "id": "a8520fe7-832c-483c-bcc2-bcde281c6213"
   },
   "source": [
    "One of the big benefits of Python is that you don't have to declare the type of a variable, Python interprets the type for you. You can also change the type of a variable, which can be useful but can also present risks!"
   ]
  },
  {
   "cell_type": "code",
   "execution_count": null,
   "id": "6f45ae95-47a5-4b1d-89c4-9b8e9340ffda",
   "metadata": {
    "colab": {
     "base_uri": "https://localhost:8080/"
    },
    "id": "6f45ae95-47a5-4b1d-89c4-9b8e9340ffda",
    "outputId": "e1bbf201-d955-44b6-b7a5-a76637752690"
   },
   "outputs": [
    {
     "name": "stdout",
     "output_type": "stream",
     "text": [
      "<class 'int'>\n"
     ]
    }
   ],
   "source": [
    "mass_of_electron = 1\n",
    "print(type(mass_of_electron))"
   ]
  },
  {
   "cell_type": "markdown",
   "id": "bac7e654-dba4-415a-b1dd-fad47e39384a",
   "metadata": {
    "id": "bac7e654-dba4-415a-b1dd-fad47e39384a"
   },
   "source": [
    "<div class=\"alert alert-success\">\n",
    "<b>Task 1.1: Define and assign variables with suitable names for:<br></b>\n",
    "- The ideal gas constant.<br>\n",
    "- The atomic number of an element (pick your favourite).<br>\n",
    "- The name of an element (pick your favourite).\n",
    "\n",
    "</div>    "
   ]
  },
  {
   "cell_type": "code",
   "execution_count": null,
   "id": "95099844-568d-4145-9e94-9cd456b96177",
   "metadata": {
    "id": "95099844-568d-4145-9e94-9cd456b96177"
   },
   "outputs": [],
   "source": [
    "#Enter code for Task 1.1 here\n",
    "r = 3.814\n",
    "element = 1\n",
    "element_name = 'H'"
   ]
  },
  {
   "cell_type": "markdown",
   "id": "08aaf655-df6b-4152-8ffc-b03c78e21763",
   "metadata": {
    "id": "08aaf655-df6b-4152-8ffc-b03c78e21763"
   },
   "source": [
    "<div class=\"alert alert-success\">\n",
    "<b>Task 1.2: Create a list that contains all of the variables created in Task 1.1.<br></b>\n",
    "\n",
    "Note here: Lists can contain items of different types!\n",
    "\n",
    "</div>    "
   ]
  },
  {
   "cell_type": "code",
   "execution_count": null,
   "id": "9bc0091a-b1ab-4346-baae-2a7aa99e4fc2",
   "metadata": {
    "id": "9bc0091a-b1ab-4346-baae-2a7aa99e4fc2"
   },
   "outputs": [],
   "source": [
    "#Enter code for Task 1.2 here\n",
    "var = [r, element, element_name]"
   ]
  },
  {
   "cell_type": "markdown",
   "id": "2a9b1829-2bb9-49a5-8700-bd493f7f2c25",
   "metadata": {
    "id": "2a9b1829-2bb9-49a5-8700-bd493f7f2c25"
   },
   "source": [
    "## 2. Simple mathematical operations\n",
    "<a id='maths'></a>\n",
    "\n",
    "In this session, we will be using Python to perform mathematical operations. Python has a number of native mathematical operators, which include:\n",
    "\n",
    "- (+) : addition\n",
    "- (-) : subtraction\n",
    "- (/) : division\n",
    "- (//): floor division\n",
    "- (*) : multiplication\n",
    "- (**): raise to the power\n",
    "\n",
    "These are mostly straightforward, as shown in the examples below:"
   ]
  },
  {
   "cell_type": "markdown",
   "id": "d7172e5d-777b-4f05-a4d8-036d13a1ee99",
   "metadata": {
    "id": "d7172e5d-777b-4f05-a4d8-036d13a1ee99"
   },
   "source": [
    "Addition:"
   ]
  },
  {
   "cell_type": "code",
   "execution_count": null,
   "id": "a30b54a5-4729-444e-9aa6-6c7376c6cbf2",
   "metadata": {
    "colab": {
     "base_uri": "https://localhost:8080/"
    },
    "id": "a30b54a5-4729-444e-9aa6-6c7376c6cbf2",
    "outputId": "5f1d6076-1b92-4c50-970e-db677e4c016f"
   },
   "outputs": [
    {
     "data": {
      "text/plain": [
       "5"
      ]
     },
     "execution_count": 5,
     "metadata": {},
     "output_type": "execute_result"
    }
   ],
   "source": [
    "3+2"
   ]
  },
  {
   "cell_type": "markdown",
   "id": "6e6d2283-65e3-43aa-8728-3ae8204bc9a4",
   "metadata": {
    "id": "6e6d2283-65e3-43aa-8728-3ae8204bc9a4"
   },
   "source": [
    "Multiplication:"
   ]
  },
  {
   "cell_type": "code",
   "execution_count": null,
   "id": "123b3bf9-d74b-41f4-9bd3-883194e21934",
   "metadata": {
    "colab": {
     "base_uri": "https://localhost:8080/"
    },
    "id": "123b3bf9-d74b-41f4-9bd3-883194e21934",
    "outputId": "485aab16-fa55-40dd-bab5-3cdfcf5a46ac"
   },
   "outputs": [
    {
     "data": {
      "text/plain": [
       "6"
      ]
     },
     "execution_count": 6,
     "metadata": {},
     "output_type": "execute_result"
    }
   ],
   "source": [
    "3*2"
   ]
  },
  {
   "cell_type": "markdown",
   "id": "b397aa60-7e7a-41a5-90bb-061211e3ccc6",
   "metadata": {
    "id": "b397aa60-7e7a-41a5-90bb-061211e3ccc6"
   },
   "source": [
    "Exponentials:"
   ]
  },
  {
   "cell_type": "code",
   "execution_count": null,
   "id": "0fef4c77-a559-4f25-9355-e52c209dc305",
   "metadata": {
    "colab": {
     "base_uri": "https://localhost:8080/"
    },
    "id": "0fef4c77-a559-4f25-9355-e52c209dc305",
    "outputId": "ee76d756-bddb-49de-aede-cbbd23ca95f7"
   },
   "outputs": [
    {
     "data": {
      "text/plain": [
       "9"
      ]
     },
     "execution_count": 7,
     "metadata": {},
     "output_type": "execute_result"
    }
   ],
   "source": [
    "3**2"
   ]
  },
  {
   "cell_type": "markdown",
   "id": "b921b248-d683-47dd-acf9-7264a1a660e8",
   "metadata": {
    "id": "b921b248-d683-47dd-acf9-7264a1a660e8"
   },
   "source": [
    "The two division operators require a little more explanation. The (/) operator does division in a standard way, i.e. it will output a non-integer if the numerator is not divisble by the denominator."
   ]
  },
  {
   "cell_type": "code",
   "execution_count": null,
   "id": "0b3e5e65-a0b9-472d-8c97-db9165fe0532",
   "metadata": {
    "colab": {
     "base_uri": "https://localhost:8080/"
    },
    "id": "0b3e5e65-a0b9-472d-8c97-db9165fe0532",
    "outputId": "5f80de77-f22f-4d54-9815-30b340229311"
   },
   "outputs": [
    {
     "data": {
      "text/plain": [
       "1.5"
      ]
     },
     "execution_count": 8,
     "metadata": {},
     "output_type": "execute_result"
    }
   ],
   "source": [
    "3/2"
   ]
  },
  {
   "cell_type": "markdown",
   "id": "33d97710-6433-4851-a9a0-e8f295dfe2b6",
   "metadata": {
    "id": "33d97710-6433-4851-a9a0-e8f295dfe2b6"
   },
   "source": [
    "However, the (//) operator will do the division and round down to the nearest integer."
   ]
  },
  {
   "cell_type": "code",
   "execution_count": null,
   "id": "58dc4d4a-81b1-4d07-bb1e-87fa9cb38186",
   "metadata": {
    "colab": {
     "base_uri": "https://localhost:8080/"
    },
    "id": "58dc4d4a-81b1-4d07-bb1e-87fa9cb38186",
    "outputId": "7130fa54-0b2d-4f37-e785-506e46d320c1"
   },
   "outputs": [
    {
     "data": {
      "text/plain": [
       "1"
      ]
     },
     "execution_count": 9,
     "metadata": {},
     "output_type": "execute_result"
    }
   ],
   "source": [
    "3//2"
   ]
  },
  {
   "cell_type": "markdown",
   "id": "d733df28-c4ff-44fe-990a-477dc6d75ee8",
   "metadata": {
    "id": "d733df28-c4ff-44fe-990a-477dc6d75ee8"
   },
   "source": [
    "This is true even if using floating point numbers!"
   ]
  },
  {
   "cell_type": "code",
   "execution_count": null,
   "id": "88ba2637-429f-4dd2-b1a1-a92b1fb77226",
   "metadata": {
    "colab": {
     "base_uri": "https://localhost:8080/"
    },
    "id": "88ba2637-429f-4dd2-b1a1-a92b1fb77226",
    "outputId": "a02a7881-7f7d-440d-c03f-9ff5e5b9c75c"
   },
   "outputs": [
    {
     "data": {
      "text/plain": [
       "1.0"
      ]
     },
     "execution_count": 10,
     "metadata": {},
     "output_type": "execute_result"
    }
   ],
   "source": [
    "3.0//2.0"
   ]
  },
  {
   "cell_type": "markdown",
   "id": "46b1893b-306b-4292-bf11-d1fcf033b7b9",
   "metadata": {
    "id": "46b1893b-306b-4292-bf11-d1fcf033b7b9"
   },
   "source": [
    "### 2.1 Mathematical operations on lists\n",
    "\n",
    "Some of the operators above also work on lists, but in a manner that is very different to their operations on integers or floating point numbers.\n",
    "\n",
    "For instance, the + operator concatenates (joins together) the two lists here, rather than adding the values together."
   ]
  },
  {
   "cell_type": "code",
   "execution_count": null,
   "id": "2b2424b2-206d-4405-9c71-5895b150a612",
   "metadata": {
    "colab": {
     "base_uri": "https://localhost:8080/"
    },
    "id": "2b2424b2-206d-4405-9c71-5895b150a612",
    "outputId": "d960f48b-a200-4bdf-f81a-f388f50c703e"
   },
   "outputs": [
    {
     "data": {
      "text/plain": [
       "[1, 2, 3, 4]"
      ]
     },
     "execution_count": 11,
     "metadata": {},
     "output_type": "execute_result"
    }
   ],
   "source": [
    "[1, 2] + [3, 4]"
   ]
  },
  {
   "cell_type": "markdown",
   "id": "90c9c2fd-7883-441a-aa0d-c85731da252e",
   "metadata": {
    "id": "90c9c2fd-7883-441a-aa0d-c85731da252e"
   },
   "source": [
    "It's possible to multiply a list by an integer, but this simply adds copies of the list elements to the list."
   ]
  },
  {
   "cell_type": "code",
   "execution_count": null,
   "id": "6f513c37-c15b-4081-b9af-9b141c2a4238",
   "metadata": {
    "colab": {
     "base_uri": "https://localhost:8080/"
    },
    "id": "6f513c37-c15b-4081-b9af-9b141c2a4238",
    "outputId": "46ec11c9-caf1-4f25-8e8d-aaa9e23a3ea9"
   },
   "outputs": [
    {
     "data": {
      "text/plain": [
       "[1, 2, 1, 2]"
      ]
     },
     "execution_count": 12,
     "metadata": {},
     "output_type": "execute_result"
    }
   ],
   "source": [
    "[1, 2] * 2"
   ]
  },
  {
   "cell_type": "markdown",
   "id": "df5e9872-6e44-45c1-920b-deaf54e4d32b",
   "metadata": {
    "id": "df5e9872-6e44-45c1-920b-deaf54e4d32b"
   },
   "source": [
    "For many calculations, we will have a one-dimensional set of data that we would like to perform a mathematical operation on. We've seen that this is difficult to achieve with lists, but next we'll move onto the NumPy package which makes this much easier."
   ]
  },
  {
   "cell_type": "markdown",
   "id": "39a62387-2e2d-4114-b95f-720396f272f1",
   "metadata": {
    "id": "39a62387-2e2d-4114-b95f-720396f272f1"
   },
   "source": [
    "<div class=\"alert alert-success\">\n",
    "<b>Task 2.1: Perform the following calculations:<br></b>\n",
    "- Add 3.14 to 2.72.<br>\n",
    "- Set the variable `a` to be 3. Multiply `a` by 4.<br>\n",
    "- Set the variable `b` to be 1. Add 3 to `b` and then raise it to the power 3.\n",
    "\n",
    "</div>"
   ]
  },
  {
   "cell_type": "code",
   "execution_count": null,
   "id": "6bed00df-2d62-45c8-9702-53effecb56e9",
   "metadata": {
    "colab": {
     "base_uri": "https://localhost:8080/"
    },
    "id": "6bed00df-2d62-45c8-9702-53effecb56e9",
    "outputId": "531e46dd-39e2-47b8-a6c0-e0c5278588fb"
   },
   "outputs": [
    {
     "name": "stdout",
     "output_type": "stream",
     "text": [
      "12\n",
      "8\n"
     ]
    }
   ],
   "source": [
    "#Enter code for Task 2.1 here\n",
    "3.14 + 2.72\n",
    "a = 3\n",
    "a *= 4\n",
    "print(a)\n",
    "b = 1\n",
    "b += 1\n",
    "b = b**3\n",
    "print(b)"
   ]
  },
  {
   "cell_type": "markdown",
   "id": "8b500b65-e3e9-42c3-ae64-18dfbc9d90a8",
   "metadata": {
    "id": "8b500b65-e3e9-42c3-ae64-18dfbc9d90a8"
   },
   "source": [
    "## 3. NumPy\n",
    "<a id='numpy'></a>\n",
    "\n",
    "NumPy is the standard package for working with numerical arrays in Python. We can import NumPy using the `import` statement. Here, we are importing NumPy to use with the name `np`."
   ]
  },
  {
   "cell_type": "code",
   "execution_count": null,
   "id": "93a4d7e7-1349-495c-957b-e2082c03cd9e",
   "metadata": {
    "id": "93a4d7e7-1349-495c-957b-e2082c03cd9e"
   },
   "outputs": [],
   "source": [
    "import numpy as np"
   ]
  },
  {
   "cell_type": "markdown",
   "id": "5bcff21f-d0bc-4d88-a299-9e9a67518786",
   "metadata": {
    "id": "5bcff21f-d0bc-4d88-a299-9e9a67518786"
   },
   "source": [
    "An array is similar to a matrix, but can have any number of dimensions. We'll stick to one dimension in this session.\n",
    "\n",
    "To create an array, you can use the `array` function within NumPy with a list of numbers as input."
   ]
  },
  {
   "cell_type": "code",
   "execution_count": null,
   "id": "3d7e420d-ff24-48f5-880d-8dbbd5eada0a",
   "metadata": {
    "colab": {
     "base_uri": "https://localhost:8080/"
    },
    "id": "3d7e420d-ff24-48f5-880d-8dbbd5eada0a",
    "outputId": "2d7fd793-755c-4a7c-a08a-ba4c0e796691"
   },
   "outputs": [
    {
     "name": "stdout",
     "output_type": "stream",
     "text": [
      "[1 2 3 4 5]\n"
     ]
    }
   ],
   "source": [
    "arr = np.array([1, 2, 3, 4, 5])\n",
    "print(arr)"
   ]
  },
  {
   "cell_type": "markdown",
   "id": "b6db5657-a3cc-4fa8-ba77-d90851dc942b",
   "metadata": {
    "id": "b6db5657-a3cc-4fa8-ba77-d90851dc942b"
   },
   "source": [
    "To create larger arrays, there are other in-built functions. For example, to create a linearly-spaced array (i.e. the same interval between all elements), the `linspace` function can be used. Using `linspace` requires arguments of the form `linspace(start,stop,number of values)`."
   ]
  },
  {
   "cell_type": "code",
   "execution_count": null,
   "id": "e7aca0f5-79f0-465c-94ab-df39b72a426a",
   "metadata": {
    "colab": {
     "base_uri": "https://localhost:8080/"
    },
    "id": "e7aca0f5-79f0-465c-94ab-df39b72a426a",
    "outputId": "f4a89523-5871-402e-fc52-c20b67a580e5"
   },
   "outputs": [
    {
     "name": "stdout",
     "output_type": "stream",
     "text": [
      "[1. 2. 3. 4. 5.]\n"
     ]
    }
   ],
   "source": [
    "arr2 = np.linspace(1,5,5)\n",
    "print(arr2)"
   ]
  },
  {
   "cell_type": "markdown",
   "id": "8e6045e0-a370-410f-b46a-7c8d18b9058c",
   "metadata": {
    "id": "8e6045e0-a370-410f-b46a-7c8d18b9058c"
   },
   "source": [
    "<div class=\"alert alert-success\">\n",
    "<b>Task 3.1: Use the linspace function to create a numpy array `data` with the values [10, 20, 30, 40, 50].<br></b>\n",
    "</div>"
   ]
  },
  {
   "cell_type": "code",
   "execution_count": null,
   "id": "d3fa2153-6868-4338-b581-3391d80ec84b",
   "metadata": {
    "colab": {
     "base_uri": "https://localhost:8080/"
    },
    "id": "d3fa2153-6868-4338-b581-3391d80ec84b",
    "outputId": "776e224b-c46f-448e-cdd7-b1bc795ff232"
   },
   "outputs": [
    {
     "name": "stdout",
     "output_type": "stream",
     "text": [
      "[10 20 30 40 50]\n"
     ]
    }
   ],
   "source": [
    "#Enter code for Task 3.1 here\n",
    "data = np.linspace(10, 50, 5, dtype=np.int16)\n",
    "print(data)"
   ]
  },
  {
   "cell_type": "markdown",
   "id": "829aefc0-e623-49e0-9bc2-1c9cdc32e766",
   "metadata": {
    "id": "829aefc0-e623-49e0-9bc2-1c9cdc32e766"
   },
   "source": [
    "### 3.1 Mathematical operations on NumPy arrays"
   ]
  },
  {
   "cell_type": "markdown",
   "id": "9eb0af3b-81a6-417f-bf26-2bea7b2cc410",
   "metadata": {
    "id": "9eb0af3b-81a6-417f-bf26-2bea7b2cc410"
   },
   "source": [
    "A major advantage of NumPy arrays over lists, is that it's straightforward to use mathematical operations.\n",
    "\n",
    "The mathematical operators used in section 2 work on NumPy arrays in an element-wise fashion. That is, they operate individually on each element. Here are some examples using the array created above."
   ]
  },
  {
   "cell_type": "code",
   "execution_count": null,
   "id": "79f4d10c-328b-4b20-b8e3-08d0877b4015",
   "metadata": {
    "colab": {
     "base_uri": "https://localhost:8080/"
    },
    "id": "79f4d10c-328b-4b20-b8e3-08d0877b4015",
    "outputId": "e808f592-6e90-49d9-f2df-6874207bae1a"
   },
   "outputs": [
    {
     "name": "stdout",
     "output_type": "stream",
     "text": [
      "[ 2  4  6  8 10] [ 1  4  9 16 25]\n"
     ]
    }
   ],
   "source": [
    "# Basic operations\n",
    "arr_times_two = arr * 2\n",
    "arr_squared = arr ** 2\n",
    "\n",
    "print(arr_times_two, arr_squared)"
   ]
  },
  {
   "cell_type": "markdown",
   "id": "1dbc4af1-e85e-450c-bd6e-ab3ee9d6ce46",
   "metadata": {
    "id": "1dbc4af1-e85e-450c-bd6e-ab3ee9d6ce46"
   },
   "source": [
    "It's also possible to perform maths using two NumPy arrays, but only if they are the same size. For instance, adding one array to another."
   ]
  },
  {
   "cell_type": "code",
   "execution_count": null,
   "id": "0b0d6ae0-ea67-4115-b4c6-fa889a7f5b25",
   "metadata": {
    "colab": {
     "base_uri": "https://localhost:8080/"
    },
    "id": "0b0d6ae0-ea67-4115-b4c6-fa889a7f5b25",
    "outputId": "e569bdba-a137-494a-ba39-41bff8312ea9"
   },
   "outputs": [
    {
     "name": "stdout",
     "output_type": "stream",
     "text": [
      "[ 3  8 15 24 35]\n"
     ]
    }
   ],
   "source": [
    "arr_summed = arr_times_two + arr_squared\n",
    "print(arr_summed)"
   ]
  },
  {
   "cell_type": "markdown",
   "id": "b354d534-3d04-42be-affa-954e2c08168b",
   "metadata": {
    "id": "b354d534-3d04-42be-affa-954e2c08168b"
   },
   "source": [
    "NumPy also includes useful mathematical functions. For example, taking the logarithm or exponential of elements of an array."
   ]
  },
  {
   "cell_type": "code",
   "execution_count": null,
   "id": "a16939eb-148c-4f4e-89e6-33cf9c79c5d1",
   "metadata": {
    "colab": {
     "base_uri": "https://localhost:8080/"
    },
    "id": "a16939eb-148c-4f4e-89e6-33cf9c79c5d1",
    "outputId": "31fb5880-987b-4305-c406-1203d051d5f2"
   },
   "outputs": [
    {
     "name": "stdout",
     "output_type": "stream",
     "text": [
      "[0.         0.69314718 1.09861229 1.38629436 1.60943791] [  2.71828183   7.3890561   20.08553692  54.59815003 148.4131591 ]\n"
     ]
    }
   ],
   "source": [
    "# Useful functions\n",
    "log_arr = np.log(arr)\n",
    "exp_arr = np.exp(arr)\n",
    "print(log_arr,exp_arr)"
   ]
  },
  {
   "cell_type": "markdown",
   "id": "497a9d7e-bf47-42bc-bdf4-d302ad03a5f2",
   "metadata": {
    "id": "497a9d7e-bf47-42bc-bdf4-d302ad03a5f2"
   },
   "source": [
    "As a note that will be particularly useful for the End of Session Task, if you try to take the log of 0 using `np.log` you will get a warning and the resultant element will be infinite."
   ]
  },
  {
   "cell_type": "code",
   "execution_count": null,
   "id": "155af08b-126c-4680-a3d8-92c6768a221a",
   "metadata": {
    "colab": {
     "base_uri": "https://localhost:8080/"
    },
    "id": "155af08b-126c-4680-a3d8-92c6768a221a",
    "outputId": "88c38039-508d-4aba-86aa-65dc18210654"
   },
   "outputs": [
    {
     "name": "stderr",
     "output_type": "stream",
     "text": [
      "/tmp/ipython-input-4213238566.py:1: RuntimeWarning: divide by zero encountered in log\n",
      "  np.log(log_arr)\n"
     ]
    },
    {
     "data": {
      "text/plain": [
       "array([       -inf, -0.36651292,  0.09404783,  0.32663426,  0.475885  ])"
      ]
     },
     "execution_count": 24,
     "metadata": {},
     "output_type": "execute_result"
    }
   ],
   "source": [
    "np.log(log_arr)"
   ]
  },
  {
   "cell_type": "markdown",
   "id": "58435cff-8e5d-427b-9060-506872e4c7ef",
   "metadata": {
    "id": "58435cff-8e5d-427b-9060-506872e4c7ef"
   },
   "source": [
    "One way to avoid having zeros in any array is to use the `np.clip()` function. This function will clip any values which are not within the bounds set in the function call. For example, the following code will clip the zero value to 0.01."
   ]
  },
  {
   "cell_type": "code",
   "execution_count": null,
   "id": "17d77ac1-0d65-4ed9-9dd2-30ab1b9e8cf9",
   "metadata": {
    "colab": {
     "base_uri": "https://localhost:8080/"
    },
    "id": "17d77ac1-0d65-4ed9-9dd2-30ab1b9e8cf9",
    "outputId": "bd16210b-09fd-4641-8050-5a1a0c9b291f"
   },
   "outputs": [
    {
     "data": {
      "text/plain": [
       "array([0.01      , 0.69314718, 1.09861229, 1.38629436, 1.60943791])"
      ]
     },
     "execution_count": 25,
     "metadata": {},
     "output_type": "execute_result"
    }
   ],
   "source": [
    "np.clip(log_arr, 0.01, 2.)"
   ]
  },
  {
   "cell_type": "markdown",
   "id": "62843c23-8fe7-4b5f-8b4e-172515330db2",
   "metadata": {
    "id": "62843c23-8fe7-4b5f-8b4e-172515330db2"
   },
   "source": [
    "<div class=\"alert alert-success\">\n",
    "<b>Task 3.2: Subtract 10 from the `data` array, clip the array so that no elements are zero and take its logarithm.<br></b>\n",
    "</div>"
   ]
  },
  {
   "cell_type": "code",
   "execution_count": null,
   "id": "3ba2ab4d-697b-458e-82b4-aba20c7035c5",
   "metadata": {
    "colab": {
     "base_uri": "https://localhost:8080/"
    },
    "id": "3ba2ab4d-697b-458e-82b4-aba20c7035c5",
    "outputId": "8585ace0-5b0a-4424-8084-61a15ac0c429"
   },
   "outputs": [
    {
     "name": "stdout",
     "output_type": "stream",
     "text": [
      "[ 0 10 20 30 40]\n",
      "[1.e-03 1.e+01 2.e+01 3.e+01 4.e+01]\n",
      "[-6.90775528  2.30258509  2.99573227  3.40119738  3.68887945]\n"
     ]
    }
   ],
   "source": [
    "#Enter code for Task 3.2 here\n",
    "data = np.linspace(10, 50, 5, dtype=np.int16) - 10  # Broadcast.\n",
    "print(data)\n",
    "data = np.clip(data, a_min=1e-3, a_max=None)\n",
    "print(data)\n",
    "data = np.log(data)\n",
    "print(data)"
   ]
  },
  {
   "cell_type": "markdown",
   "id": "f26fa3bb-fc83-461a-a738-d50629134d1e",
   "metadata": {
    "id": "f26fa3bb-fc83-461a-a738-d50629134d1e"
   },
   "source": [
    "### 3.2 Indexing and slicing"
   ]
  },
  {
   "cell_type": "markdown",
   "id": "6ef0bd66-5f15-4307-87cd-8ddc61c5ed4a",
   "metadata": {
    "id": "6ef0bd66-5f15-4307-87cd-8ddc61c5ed4a"
   },
   "source": [
    "It's often necessary to check the value of one or more elements inside an array, and if the array is particularly long this can be difficult from just visually inspecting the array. Thankfully, NumPy has an easy way to access individual elements of an array, indexing.\n",
    "\n",
    "A single element of a NumPy array can be indexed using square brackets."
   ]
  },
  {
   "cell_type": "code",
   "execution_count": null,
   "id": "67a7f1e2-6937-4fc7-badc-959c4c244a81",
   "metadata": {
    "colab": {
     "base_uri": "https://localhost:8080/"
    },
    "id": "67a7f1e2-6937-4fc7-badc-959c4c244a81",
    "outputId": "5c62209e-f840-4ef5-b5d6-7b71ebc6c050"
   },
   "outputs": [
    {
     "name": "stdout",
     "output_type": "stream",
     "text": [
      "First element: 1\n"
     ]
    }
   ],
   "source": [
    "print(\"First element:\", arr[0])"
   ]
  },
  {
   "cell_type": "markdown",
   "id": "312f41df-3ae5-4217-b4d9-ca44c87533f6",
   "metadata": {
    "id": "312f41df-3ae5-4217-b4d9-ca44c87533f6"
   },
   "source": [
    "Remember, in Python indexing starts from 0 (NOT 1!). It's also possible to index from the end of an array by using a minus sign."
   ]
  },
  {
   "cell_type": "code",
   "execution_count": null,
   "id": "1a75abb0-87aa-41b8-85da-a71e20c1e790",
   "metadata": {
    "colab": {
     "base_uri": "https://localhost:8080/"
    },
    "id": "1a75abb0-87aa-41b8-85da-a71e20c1e790",
    "outputId": "b3d65585-ed48-41f4-d24b-58b5c8d5846f"
   },
   "outputs": [
    {
     "name": "stdout",
     "output_type": "stream",
     "text": [
      "Last element: 5\n",
      "Third last element: 3\n"
     ]
    }
   ],
   "source": [
    "print(\"Last element:\", arr[-1])\n",
    "\n",
    "print(\"Third last element:\", arr[-3])"
   ]
  },
  {
   "cell_type": "markdown",
   "id": "89e9176f-0dfd-48f1-bbcd-dd422625e0d6",
   "metadata": {
    "id": "89e9176f-0dfd-48f1-bbcd-dd422625e0d6"
   },
   "source": [
    "Use of square brackets can also be used to access more than one element of an array. This is called slicing. To slice an array, a colon (:) is used. The colon is placed between the elements to slice between, e.g."
   ]
  },
  {
   "cell_type": "code",
   "execution_count": null,
   "id": "1cba6d7c-3092-4a34-adad-a61686dc66a0",
   "metadata": {
    "colab": {
     "base_uri": "https://localhost:8080/"
    },
    "id": "1cba6d7c-3092-4a34-adad-a61686dc66a0",
    "outputId": "5b9a35a5-783f-498e-a0fc-d1535664805f"
   },
   "outputs": [
    {
     "name": "stdout",
     "output_type": "stream",
     "text": [
      "First three elements: [1 2 3]\n",
      "First three elements: [1 2 3]\n",
      "Last three elements: [3 4 5]\n"
     ]
    }
   ],
   "source": [
    "print(\"First three elements:\", arr[0:3])\n",
    "\n",
    "#Slicing from the first element or to the last element doesn't need the 0 to be included\n",
    "print(\"First three elements:\", arr[:3])\n",
    "print(\"Last three elements:\", arr[-3:])"
   ]
  },
  {
   "cell_type": "markdown",
   "id": "ccb62091-0deb-467f-a1e7-8e73a3b29caa",
   "metadata": {
    "id": "ccb62091-0deb-467f-a1e7-8e73a3b29caa",
    "jp-MarkdownHeadingCollapsed": true
   },
   "source": [
    "<div class=\"alert alert-success\">\n",
    "<b>Task 3.3: Print the first two elements and last element of the logarithm of `data`.<br></b>\n",
    "</div>"
   ]
  },
  {
   "cell_type": "code",
   "execution_count": null,
   "id": "817c3dce-ab09-4a49-83f4-4af4a7dbbf52",
   "metadata": {
    "colab": {
     "base_uri": "https://localhost:8080/"
    },
    "id": "817c3dce-ab09-4a49-83f4-4af4a7dbbf52",
    "outputId": "1d7ebfd1-7a31-419c-aee7-47c77cfab102"
   },
   "outputs": [
    {
     "name": "stdout",
     "output_type": "stream",
     "text": [
      "[-6.90775528  2.30258509]\n",
      "3.6888794541139363\n"
     ]
    }
   ],
   "source": [
    "#Enter code for Task 3.3 here\n",
    "print(data[:2])\n",
    "print(data[-1])"
   ]
  },
  {
   "cell_type": "markdown",
   "id": "4220b5e0-5ff1-4cef-aab9-366f1752a183",
   "metadata": {
    "id": "4220b5e0-5ff1-4cef-aab9-366f1752a183"
   },
   "source": [
    "## 4. Functions\n",
    "<a id='functions'></a>\n",
    "\n",
    "You were previously introduced to functions in first year programming, and we've seen a number of them used in this notebook already! In essence, functions let you reuse code, which can be incredibly useful for carrying out the same actions again and again."
   ]
  },
  {
   "cell_type": "markdown",
   "id": "6b214fbb-94df-4573-bdf8-93103d3f0cf7",
   "metadata": {
    "id": "6b214fbb-94df-4573-bdf8-93103d3f0cf7"
   },
   "source": [
    "We've already used one function extensively in this notebook, the `print()` function."
   ]
  },
  {
   "cell_type": "code",
   "execution_count": null,
   "id": "a54bf0e7-0ac6-48bb-8d1c-6d3426c43daf",
   "metadata": {
    "colab": {
     "base_uri": "https://localhost:8080/"
    },
    "id": "a54bf0e7-0ac6-48bb-8d1c-6d3426c43daf",
    "outputId": "23913182-9e53-4a59-e70c-a4a866d706ec"
   },
   "outputs": [
    {
     "name": "stdout",
     "output_type": "stream",
     "text": [
      "Hello\n"
     ]
    }
   ],
   "source": [
    "print('Hello')"
   ]
  },
  {
   "cell_type": "markdown",
   "id": "228d9053-0436-493f-801b-77b922c89987",
   "metadata": {
    "id": "228d9053-0436-493f-801b-77b922c89987"
   },
   "source": [
    "Using a function is known as \"calling\" a function, the above statement calls the `print` function with an argument of 'Hello'. Functions arguments are the inputs to a function and go inside the brackets of a function call."
   ]
  },
  {
   "cell_type": "markdown",
   "id": "f97c61a9-2922-47ec-9655-857d37128559",
   "metadata": {
    "id": "f97c61a9-2922-47ec-9655-857d37128559"
   },
   "source": [
    "Now you know how functions are used, but how do you define your own functions? In Python you define them with `def`."
   ]
  },
  {
   "cell_type": "code",
   "execution_count": null,
   "id": "7f43793e-973f-4f71-b1c3-cd828fc4993a",
   "metadata": {
    "id": "7f43793e-973f-4f71-b1c3-cd828fc4993a"
   },
   "outputs": [],
   "source": [
    "def square(x):\n",
    "    return(x ** 2)"
   ]
  },
  {
   "cell_type": "markdown",
   "id": "a3c5707c-6abb-4afd-b43d-b7a2b31e6192",
   "metadata": {
    "id": "a3c5707c-6abb-4afd-b43d-b7a2b31e6192"
   },
   "source": [
    "The above code is known as a function definition, i.e. where a function is defined. Let's go through this in detail:\n",
    "\n",
    "- The function definition starts with `def`.\n",
    "- After `def` comes the name of the function.\n",
    "- Then, the input to the function (the arguments) are included in brackets immediately after the function name. The arguments can have any name, but this variable name should only be used within the function, it shouldn't be a variable name used outside of the function.\n",
    "- A colon follows the brackets.\n",
    "- The contents of the functions (what it does) is included on the lines immediately following the first line. The Python interpreter only includes lines that have been indented after the colon. The next line which is not indented is read as being outside the function.\n",
    "- Most functions include a return statement. This tells the Python interpreter what the output of the function is. In the case above, the output is the square of the input."
   ]
  },
  {
   "cell_type": "markdown",
   "id": "56886d1c-fdc6-47c0-994f-8e6f78c9fb8c",
   "metadata": {
    "id": "56886d1c-fdc6-47c0-994f-8e6f78c9fb8c"
   },
   "source": [
    "The code above only defines the function `square()`, it doesn't call the function (i.e. use it). Let's try calling the function with a few different arguments."
   ]
  },
  {
   "cell_type": "code",
   "execution_count": null,
   "id": "52c78a96-2270-433b-bfe1-181c3ad56a90",
   "metadata": {
    "colab": {
     "base_uri": "https://localhost:8080/"
    },
    "id": "52c78a96-2270-433b-bfe1-181c3ad56a90",
    "outputId": "1afedd40-1283-46f8-d7d7-e535114c147d"
   },
   "outputs": [
    {
     "data": {
      "text/plain": [
       "9"
      ]
     },
     "execution_count": 47,
     "metadata": {},
     "output_type": "execute_result"
    }
   ],
   "source": [
    "square(3)"
   ]
  },
  {
   "cell_type": "code",
   "execution_count": null,
   "id": "6a3de092-1e24-4ddb-b105-3ff76eb210aa",
   "metadata": {
    "colab": {
     "base_uri": "https://localhost:8080/"
    },
    "id": "6a3de092-1e24-4ddb-b105-3ff76eb210aa",
    "outputId": "1c8edfdb-331f-45fb-ddab-7c555af432b7"
   },
   "outputs": [
    {
     "data": {
      "text/plain": [
       "11.559999999999999"
      ]
     },
     "execution_count": 48,
     "metadata": {},
     "output_type": "execute_result"
    }
   ],
   "source": [
    "square(3.4)"
   ]
  },
  {
   "cell_type": "code",
   "execution_count": null,
   "id": "b502c498-a0cd-407a-92d4-ed5c48c3d241",
   "metadata": {
    "colab": {
     "base_uri": "https://localhost:8080/",
     "height": 210
    },
    "id": "b502c498-a0cd-407a-92d4-ed5c48c3d241",
    "outputId": "5e3b2d5e-01d2-453b-fc4a-ecd638ceb098"
   },
   "outputs": [
    {
     "ename": "TypeError",
     "evalue": "unsupported operand type(s) for ** or pow(): 'list' and 'int'",
     "output_type": "error",
     "traceback": [
      "\u001b[0;31m---------------------------------------------------------------------------\u001b[0m",
      "\u001b[0;31mTypeError\u001b[0m                                 Traceback (most recent call last)",
      "\u001b[0;32m/tmp/ipython-input-2130204419.py\u001b[0m in \u001b[0;36m<cell line: 0>\u001b[0;34m()\u001b[0m\n\u001b[0;32m----> 1\u001b[0;31m \u001b[0msquare\u001b[0m\u001b[0;34m(\u001b[0m\u001b[0;34m[\u001b[0m\u001b[0;36m3\u001b[0m\u001b[0;34m,\u001b[0m\u001b[0;36m4\u001b[0m\u001b[0;34m,\u001b[0m\u001b[0;36m5\u001b[0m\u001b[0;34m]\u001b[0m\u001b[0;34m)\u001b[0m \u001b[0;31m#Should get an error\u001b[0m\u001b[0;34m\u001b[0m\u001b[0;34m\u001b[0m\u001b[0m\n\u001b[0m",
      "\u001b[0;32m/tmp/ipython-input-690428136.py\u001b[0m in \u001b[0;36msquare\u001b[0;34m(x)\u001b[0m\n\u001b[1;32m      1\u001b[0m \u001b[0;32mdef\u001b[0m \u001b[0msquare\u001b[0m\u001b[0;34m(\u001b[0m\u001b[0mx\u001b[0m\u001b[0;34m)\u001b[0m\u001b[0;34m:\u001b[0m\u001b[0;34m\u001b[0m\u001b[0;34m\u001b[0m\u001b[0m\n\u001b[0;32m----> 2\u001b[0;31m     \u001b[0;32mreturn\u001b[0m\u001b[0;34m(\u001b[0m\u001b[0mx\u001b[0m \u001b[0;34m**\u001b[0m \u001b[0;36m2\u001b[0m\u001b[0;34m)\u001b[0m\u001b[0;34m\u001b[0m\u001b[0;34m\u001b[0m\u001b[0m\n\u001b[0m",
      "\u001b[0;31mTypeError\u001b[0m: unsupported operand type(s) for ** or pow(): 'list' and 'int'"
     ]
    }
   ],
   "source": [
    "square([3,4,5]) #Should get an error"
   ]
  },
  {
   "cell_type": "markdown",
   "id": "c44dcd41-e361-4200-9bab-33ac87b67df5",
   "metadata": {
    "id": "c44dcd41-e361-4200-9bab-33ac87b67df5"
   },
   "source": [
    "The code cell above should throw an error, as it's not possible to square a list!\n",
    "\n",
    "However, it is possible to square a NumPy array:"
   ]
  },
  {
   "cell_type": "code",
   "execution_count": null,
   "id": "8d503bff-1edd-41ea-bcd0-ccf5b9ae0af7",
   "metadata": {
    "colab": {
     "base_uri": "https://localhost:8080/"
    },
    "id": "8d503bff-1edd-41ea-bcd0-ccf5b9ae0af7",
    "outputId": "e6aecaac-3620-42c6-a91c-283238641b23"
   },
   "outputs": [
    {
     "data": {
      "text/plain": [
       "array([ 1,  4,  9, 16, 25])"
      ]
     },
     "execution_count": 50,
     "metadata": {},
     "output_type": "execute_result"
    }
   ],
   "source": [
    "square(arr)"
   ]
  },
  {
   "cell_type": "markdown",
   "id": "d5d75c37-8a4a-4929-a0f4-5574ba4106e9",
   "metadata": {
    "id": "d5d75c37-8a4a-4929-a0f4-5574ba4106e9"
   },
   "source": [
    "### 4.1 Multiple arguments"
   ]
  },
  {
   "cell_type": "markdown",
   "id": "ef977a3b-9fda-4489-b893-5494da2d811e",
   "metadata": {
    "id": "ef977a3b-9fda-4489-b893-5494da2d811e"
   },
   "source": [
    "Functions can take multiple arguments and can return multiple objects. If using multiple arguments, these should be separated by a comma."
   ]
  },
  {
   "cell_type": "code",
   "execution_count": null,
   "id": "f21f5254-a0ae-43c8-b970-61bdf3ee41e2",
   "metadata": {
    "colab": {
     "base_uri": "https://localhost:8080/"
    },
    "id": "f21f5254-a0ae-43c8-b970-61bdf3ee41e2",
    "outputId": "a75f48e2-1c2e-4591-e1ea-2769ff72697a"
   },
   "outputs": [
    {
     "name": "stdout",
     "output_type": "stream",
     "text": [
      "Sum of 4 and 5: 9\n"
     ]
    }
   ],
   "source": [
    "def add(a, b):\n",
    "    return(a + b)\n",
    "\n",
    "print(\"Sum of 4 and 5:\", add(4, 5))"
   ]
  },
  {
   "cell_type": "markdown",
   "id": "d519186e-f280-4766-bfe4-e732c7e54421",
   "metadata": {
    "id": "d519186e-f280-4766-bfe4-e732c7e54421"
   },
   "source": [
    "<div class=\"alert alert-success\">\n",
    "<b>Task 4.1: Write a function to calculate the total number of moles of reactant and product in the reaction $A \\rightarrow 2B$, where the arguments should be initial moles of A and the extent of reaction $\\chi$. Use the function to calculate the total number of moles at $\\chi = 0.4$ when the reaction started with 3 mol of A.<br></b>\n",
    "<br>\n",
    "Hint: The number of moles of reactant equals 1 - $\\chi$. What are the number of moles of product with respect to $\\chi$?\n",
    "</div>"
   ]
  },
  {
   "cell_type": "code",
   "execution_count": null,
   "id": "d948eab9-1d6e-4b1c-996b-14d0a06868ab",
   "metadata": {
    "id": "d948eab9-1d6e-4b1c-996b-14d0a06868ab"
   },
   "outputs": [],
   "source": [
    "#Enter code for Task 4.1 here\n",
    "def reaction(mol_a: int or float, conversion: float):\n",
    "  n_a_consumed = (1 - 0.4)  # Consumed reactant: 100% - (reaction percentage),\n",
    "  n_b = 2 * n_a_consumed  # A -> 2B.\n",
    "  return n_b"
   ]
  },
  {
   "cell_type": "markdown",
   "id": "d609b02a-a3c3-47f5-adce-679117add890",
   "metadata": {
    "id": "d609b02a-a3c3-47f5-adce-679117add890"
   },
   "source": [
    "## 5. Lambda functions\n",
    "<a id='lambda'></a>\n",
    "\n",
    "Python also allows you to define small functions of a single output using `lambda`.\n",
    "\n",
    "They are useful for short, throwaway mathematical functions. An example is shown below, where the variable `cube` is assigned a lambda function. The arguments immediately follow the `lambda`, with the output following a colon. Lambda functions should always be single lines of code."
   ]
  },
  {
   "cell_type": "code",
   "execution_count": null,
   "id": "469e76ba-dd86-4609-9523-aea0cb2babe2",
   "metadata": {
    "colab": {
     "base_uri": "https://localhost:8080/"
    },
    "id": "469e76ba-dd86-4609-9523-aea0cb2babe2",
    "outputId": "7d02a402-c15c-4e70-feaa-38b0fc46f43e"
   },
   "outputs": [
    {
     "data": {
      "text/plain": [
       "8"
      ]
     },
     "execution_count": 54,
     "metadata": {},
     "output_type": "execute_result"
    }
   ],
   "source": [
    "# A lambda function to compute x^3\n",
    "cube = lambda x: x**3\n",
    "\n",
    "cube(2)"
   ]
  },
  {
   "cell_type": "markdown",
   "id": "6c2bcd02-7348-4f3f-8d93-2d6d4499ea0b",
   "metadata": {
    "id": "6c2bcd02-7348-4f3f-8d93-2d6d4499ea0b"
   },
   "source": [
    "Lambda functions can take multiple arguments."
   ]
  },
  {
   "cell_type": "code",
   "execution_count": null,
   "id": "8df72e66-d87d-4036-a203-56f5892cd6b3",
   "metadata": {
    "colab": {
     "base_uri": "https://localhost:8080/"
    },
    "id": "8df72e66-d87d-4036-a203-56f5892cd6b3",
    "outputId": "f4a1accd-281b-485b-a22f-907632419cc3"
   },
   "outputs": [
    {
     "data": {
      "text/plain": [
       "6"
      ]
     },
     "execution_count": 55,
     "metadata": {},
     "output_type": "execute_result"
    }
   ],
   "source": [
    "# A lambda function to multiply two variables\n",
    "multiply = lambda x, y: x * y\n",
    "\n",
    "multiply(2,3)"
   ]
  },
  {
   "cell_type": "markdown",
   "id": "12df3734-9c6d-4e8f-8fa9-e806771cebb6",
   "metadata": {
    "id": "12df3734-9c6d-4e8f-8fa9-e806771cebb6"
   },
   "source": [
    "<div class=\"alert alert-success\">\n",
    "<b>Task 5.1: Write a lambda function to compute the mole fraction of product in the reaction $A \\rightarrow 2B$, where the only required argument is the extent of reaction. Use the function to calculate the mole fraction of B at $\\chi = 0.5$.<br></b>\n",
    "</div>"
   ]
  },
  {
   "cell_type": "code",
   "execution_count": null,
   "id": "77f22e8c-ceee-4d1b-8322-05f4c7caf54f",
   "metadata": {
    "colab": {
     "base_uri": "https://localhost:8080/"
    },
    "id": "77f22e8c-ceee-4d1b-8322-05f4c7caf54f",
    "outputId": "989cdacc-c713-46ed-b815-f58ff2ee3f9b"
   },
   "outputs": [
    {
     "name": "stdout",
     "output_type": "stream",
     "text": [
      "1.0\n"
     ]
    }
   ],
   "source": [
    "#Enter code for Task 5.1 here\n",
    "b_frac = lambda x: 2 * (1 - x)  # Combine both operations performed in the function.\n",
    "print(b_frac(0.5))"
   ]
  },
  {
   "cell_type": "markdown",
   "id": "c77f07f2-2efc-45b6-94e7-450bed8aa41f",
   "metadata": {
    "id": "c77f07f2-2efc-45b6-94e7-450bed8aa41f"
   },
   "source": [
    "## End of Session Task\n",
    "<a id='final-task'></a>\n",
    "\n",
    "Write a function called `gibbs_energy` that calculates the Gibbs energy change at different extents of reaction ($\\chi$) for a reaction of the form:\n",
    "\n",
    "<div style=\"text-align:center\">$A(g) \\rightarrow 2B(g)$</div><br>\n",
    "\n",
    "Assume 1 mol of A at $\\chi = 0$.\n",
    "\n",
    "The Gibbs energy change is the sum of contributions from the change in Gibbs energy between reactant and product and the Gibbs energy change due to mixing. The Gibbs energy change due to mixing is given by the equation:\n",
    "\n",
    "<div style=\"text-align:center\">$\\Delta G_{\\text{mix}}(\\xi) = RT \\Big[ n_A\\ln(x_A) + n_B\\ln(x_B) \\Big]$</div>\n",
    "\n",
    "The function should take as arguments:\n",
    "- The change in Gibbs energy between the reactant and product.\n",
    "- The temperature at which the reaction takes place.\n",
    "\n",
    "The function should return:\n",
    "- A 1D NumPy array representing the extent of reaction.\n",
    "- A 1D NumPy array representing the Gibbs energy change for each extent of reaction."
   ]
  },
  {
   "cell_type": "code",
   "execution_count": null,
   "id": "3a11be95-8273-415c-8ca6-1597f2426772",
   "metadata": {
    "id": "3a11be95-8273-415c-8ca6-1597f2426772"
   },
   "outputs": [],
   "source": [
    "#Enter code for End of Session Task here\n",
    "def gibbs_energy(delta_G, T):\n",
    "  conv_rate = np.linspace(0.00, 1.00, 100)  # 1 pt/%,\n",
    "  r = 8.314  # Gas constant and temperature,\n",
    "\n",
    "  \"\"\"Calculate the total number of mol of A left at each point of the reaction,\n",
    "  and the amount of B present at each conversion rate point.\"\"\"\n",
    "  n_a = np.ones(shape=(100)) - conv_rate  # n_a = (1 - x),\n",
    "  n_b = 2*conv_rate  # A -> 2B.\n",
    "\n",
    "  \"\"\"Calculate total number of mol present in the reaction, and use it to\n",
    "  compute fractions of A and B in the reaction.\"\"\"\n",
    "  n_tot = n_a + n_b\n",
    "  frac_a, frac_b = n_a / n_tot, n_b / n_tot\n",
    "\n",
    "  \"\"\"Compute ΔG, mixing contribution + reaction.\"\"\"\n",
    "  dG_mixing = r * T * (n_a*np.log(frac_a) + n_b*np.log(frac_b))\n",
    "  dG_reaction = delta_G * conv_rate\n",
    "\n",
    "  dG = np.nan_to_num(dG_mixing, nan=0.0) + dG_reaction  # Avoid NaN!\n",
    "\n",
    "  return conv_rate, dG\n"
   ]
  },
  {
   "cell_type": "markdown",
   "id": "9b301f4f-2862-473c-b06e-9f24d5c0fccd",
   "metadata": {
    "id": "9b301f4f-2862-473c-b06e-9f24d5c0fccd"
   },
   "source": [
    "Once you have completed the End of Session Task, run the code cell below to use your code to create an interactive plot of the Gibbs energy of a reaction based on the difference in Gibbs energy of reactant and product!"
   ]
  },
  {
   "cell_type": "code",
   "execution_count": null,
   "id": "8dbea88e-dfa4-440d-b304-0ab99c557b74",
   "metadata": {
    "colab": {
     "base_uri": "https://localhost:8080/",
     "height": 543,
     "referenced_widgets": [
      "03171e509e48424884b915aad306140f",
      "97b3ea2de3f9475abb92dd9480421921",
      "55b33fbecbc9427498c83d37630cb42b",
      "1c85ef0a85de46b5899209bd8c5ec490",
      "fa9ea97e3be548b5881155c4d95edfd4",
      "fa625e8c000340efb01d61690bde302e",
      "0edc7ca72b824ecf87872e742249c039",
      "847a5d7d0ed84026b979f1b242a107fd",
      "a619e8754b3840889edfa0ef8d4d6a1d",
      "47b1bda4a44e430bb4956ae3e665e344"
     ]
    },
    "id": "8dbea88e-dfa4-440d-b304-0ab99c557b74",
    "outputId": "40c59e30-7bf5-4318-bacc-a20545303c74"
   },
   "outputs": [
    {
     "data": {
      "application/vnd.jupyter.widget-view+json": {
       "model_id": "03171e509e48424884b915aad306140f",
       "version_major": 2,
       "version_minor": 0
      },
      "text/plain": [
       "interactive(children=(FloatSlider(value=0.0, description='ΔG° (J/mol)', max=20000.0, min=-20000.0, step=1000.0…"
      ]
     },
     "metadata": {},
     "output_type": "display_data"
    }
   ],
   "source": [
    "from ipywidgets import interact, FloatSlider\n",
    "import matplotlib.pyplot as plt\n",
    "import numpy as np\n",
    "\n",
    "def plot_gibbs(delta_G, T=298):\n",
    "    xi, dG = gibbs_energy(delta_G, T)\n",
    "\n",
    "    plt.figure(figsize=(6,4))\n",
    "    plt.plot(xi, dG, lw=2)\n",
    "    plt.axhline(0, color='k', ls='--')\n",
    "    plt.xlabel(\"Extent of reaction, ξ\")\n",
    "    plt.ylabel(\"ΔG (J/mol)\")\n",
    "    plt.title(f\"Gibbs Energy Profile (ΔG° = {delta_G:.0f} J/mol)\")\n",
    "    plt.grid(True, alpha=0.3)\n",
    "    plt.show()\n",
    "\n",
    "\n",
    "# Interactive widget\n",
    "interact(\n",
    "    plot_gibbs,\n",
    "    delta_G=FloatSlider(value=0, min=-2e4, max=2e4, step=1000, description=\"ΔG° (J/mol)\")\n",
    ");"
   ]
  }
 ],
 "metadata": {
  "colab": {
   "provenance": []
  },
  "kernelspec": {
   "display_name": "Python 3 (ipykernel)",
   "language": "python",
   "name": "python3"
  },
  "language_info": {
   "codemirror_mode": {
    "name": "ipython",
    "version": 3
   },
   "file_extension": ".py",
   "mimetype": "text/x-python",
   "name": "python",
   "nbconvert_exporter": "python",
   "pygments_lexer": "ipython3",
   "version": "3.13.7"
  },
  "widgets": {
   "application/vnd.jupyter.widget-state+json": {
    "03171e509e48424884b915aad306140f": {
     "model_module": "@jupyter-widgets/controls",
     "model_module_version": "1.5.0",
     "model_name": "VBoxModel",
     "state": {
      "_dom_classes": [
       "widget-interact"
      ],
      "_model_module": "@jupyter-widgets/controls",
      "_model_module_version": "1.5.0",
      "_model_name": "VBoxModel",
      "_view_count": null,
      "_view_module": "@jupyter-widgets/controls",
      "_view_module_version": "1.5.0",
      "_view_name": "VBoxView",
      "box_style": "",
      "children": [
       "IPY_MODEL_97b3ea2de3f9475abb92dd9480421921",
       "IPY_MODEL_55b33fbecbc9427498c83d37630cb42b",
       "IPY_MODEL_1c85ef0a85de46b5899209bd8c5ec490"
      ],
      "layout": "IPY_MODEL_fa9ea97e3be548b5881155c4d95edfd4"
     }
    },
    "0edc7ca72b824ecf87872e742249c039": {
     "model_module": "@jupyter-widgets/controls",
     "model_module_version": "1.5.0",
     "model_name": "SliderStyleModel",
     "state": {
      "_model_module": "@jupyter-widgets/controls",
      "_model_module_version": "1.5.0",
      "_model_name": "SliderStyleModel",
      "_view_count": null,
      "_view_module": "@jupyter-widgets/base",
      "_view_module_version": "1.2.0",
      "_view_name": "StyleView",
      "description_width": "",
      "handle_color": null
     }
    },
    "1c85ef0a85de46b5899209bd8c5ec490": {
     "model_module": "@jupyter-widgets/output",
     "model_module_version": "1.0.0",
     "model_name": "OutputModel",
     "state": {
      "_dom_classes": [],
      "_model_module": "@jupyter-widgets/output",
      "_model_module_version": "1.0.0",
      "_model_name": "OutputModel",
      "_view_count": null,
      "_view_module": "@jupyter-widgets/output",
      "_view_module_version": "1.0.0",
      "_view_name": "OutputView",
      "layout": "IPY_MODEL_47b1bda4a44e430bb4956ae3e665e344",
      "msg_id": "",
      "outputs": [
       {
        "name": "stderr",
        "output_type": "stream",
        "text": [
         "/tmp/ipython-input-2509921837.py:17: RuntimeWarning: divide by zero encountered in log\n",
         "  dG_mixing = r * T * (n_a*np.log(frac_a) + n_b*np.log(frac_b))\n",
         "/tmp/ipython-input-2509921837.py:17: RuntimeWarning: invalid value encountered in multiply\n",
         "  dG_mixing = r * T * (n_a*np.log(frac_a) + n_b*np.log(frac_b))\n"
        ]
       },
       {
        "data": {
         "image/png": "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\n",
         "text/plain": "<Figure size 600x400 with 1 Axes>"
        },
        "metadata": {},
        "output_type": "display_data"
       }
      ]
     }
    },
    "47b1bda4a44e430bb4956ae3e665e344": {
     "model_module": "@jupyter-widgets/base",
     "model_module_version": "1.2.0",
     "model_name": "LayoutModel",
     "state": {
      "_model_module": "@jupyter-widgets/base",
      "_model_module_version": "1.2.0",
      "_model_name": "LayoutModel",
      "_view_count": null,
      "_view_module": "@jupyter-widgets/base",
      "_view_module_version": "1.2.0",
      "_view_name": "LayoutView",
      "align_content": null,
      "align_items": null,
      "align_self": null,
      "border": null,
      "bottom": null,
      "display": null,
      "flex": null,
      "flex_flow": null,
      "grid_area": null,
      "grid_auto_columns": null,
      "grid_auto_flow": null,
      "grid_auto_rows": null,
      "grid_column": null,
      "grid_gap": null,
      "grid_row": null,
      "grid_template_areas": null,
      "grid_template_columns": null,
      "grid_template_rows": null,
      "height": null,
      "justify_content": null,
      "justify_items": null,
      "left": null,
      "margin": null,
      "max_height": null,
      "max_width": null,
      "min_height": null,
      "min_width": null,
      "object_fit": null,
      "object_position": null,
      "order": null,
      "overflow": null,
      "overflow_x": null,
      "overflow_y": null,
      "padding": null,
      "right": null,
      "top": null,
      "visibility": null,
      "width": null
     }
    },
    "55b33fbecbc9427498c83d37630cb42b": {
     "model_module": "@jupyter-widgets/controls",
     "model_module_version": "1.5.0",
     "model_name": "IntSliderModel",
     "state": {
      "_dom_classes": [],
      "_model_module": "@jupyter-widgets/controls",
      "_model_module_version": "1.5.0",
      "_model_name": "IntSliderModel",
      "_view_count": null,
      "_view_module": "@jupyter-widgets/controls",
      "_view_module_version": "1.5.0",
      "_view_name": "IntSliderView",
      "continuous_update": true,
      "description": "T",
      "description_tooltip": null,
      "disabled": false,
      "layout": "IPY_MODEL_847a5d7d0ed84026b979f1b242a107fd",
      "max": 894,
      "min": -298,
      "orientation": "horizontal",
      "readout": true,
      "readout_format": "d",
      "step": 1,
      "style": "IPY_MODEL_a619e8754b3840889edfa0ef8d4d6a1d",
      "value": 298
     }
    },
    "847a5d7d0ed84026b979f1b242a107fd": {
     "model_module": "@jupyter-widgets/base",
     "model_module_version": "1.2.0",
     "model_name": "LayoutModel",
     "state": {
      "_model_module": "@jupyter-widgets/base",
      "_model_module_version": "1.2.0",
      "_model_name": "LayoutModel",
      "_view_count": null,
      "_view_module": "@jupyter-widgets/base",
      "_view_module_version": "1.2.0",
      "_view_name": "LayoutView",
      "align_content": null,
      "align_items": null,
      "align_self": null,
      "border": null,
      "bottom": null,
      "display": null,
      "flex": null,
      "flex_flow": null,
      "grid_area": null,
      "grid_auto_columns": null,
      "grid_auto_flow": null,
      "grid_auto_rows": null,
      "grid_column": null,
      "grid_gap": null,
      "grid_row": null,
      "grid_template_areas": null,
      "grid_template_columns": null,
      "grid_template_rows": null,
      "height": null,
      "justify_content": null,
      "justify_items": null,
      "left": null,
      "margin": null,
      "max_height": null,
      "max_width": null,
      "min_height": null,
      "min_width": null,
      "object_fit": null,
      "object_position": null,
      "order": null,
      "overflow": null,
      "overflow_x": null,
      "overflow_y": null,
      "padding": null,
      "right": null,
      "top": null,
      "visibility": null,
      "width": null
     }
    },
    "97b3ea2de3f9475abb92dd9480421921": {
     "model_module": "@jupyter-widgets/controls",
     "model_module_version": "1.5.0",
     "model_name": "FloatSliderModel",
     "state": {
      "_dom_classes": [],
      "_model_module": "@jupyter-widgets/controls",
      "_model_module_version": "1.5.0",
      "_model_name": "FloatSliderModel",
      "_view_count": null,
      "_view_module": "@jupyter-widgets/controls",
      "_view_module_version": "1.5.0",
      "_view_name": "FloatSliderView",
      "continuous_update": true,
      "description": "ΔG° (J/mol)",
      "description_tooltip": null,
      "disabled": false,
      "layout": "IPY_MODEL_fa625e8c000340efb01d61690bde302e",
      "max": 20000,
      "min": -20000,
      "orientation": "horizontal",
      "readout": true,
      "readout_format": ".2f",
      "step": 1000,
      "style": "IPY_MODEL_0edc7ca72b824ecf87872e742249c039",
      "value": 2000
     }
    },
    "a619e8754b3840889edfa0ef8d4d6a1d": {
     "model_module": "@jupyter-widgets/controls",
     "model_module_version": "1.5.0",
     "model_name": "SliderStyleModel",
     "state": {
      "_model_module": "@jupyter-widgets/controls",
      "_model_module_version": "1.5.0",
      "_model_name": "SliderStyleModel",
      "_view_count": null,
      "_view_module": "@jupyter-widgets/base",
      "_view_module_version": "1.2.0",
      "_view_name": "StyleView",
      "description_width": "",
      "handle_color": null
     }
    },
    "fa625e8c000340efb01d61690bde302e": {
     "model_module": "@jupyter-widgets/base",
     "model_module_version": "1.2.0",
     "model_name": "LayoutModel",
     "state": {
      "_model_module": "@jupyter-widgets/base",
      "_model_module_version": "1.2.0",
      "_model_name": "LayoutModel",
      "_view_count": null,
      "_view_module": "@jupyter-widgets/base",
      "_view_module_version": "1.2.0",
      "_view_name": "LayoutView",
      "align_content": null,
      "align_items": null,
      "align_self": null,
      "border": null,
      "bottom": null,
      "display": null,
      "flex": null,
      "flex_flow": null,
      "grid_area": null,
      "grid_auto_columns": null,
      "grid_auto_flow": null,
      "grid_auto_rows": null,
      "grid_column": null,
      "grid_gap": null,
      "grid_row": null,
      "grid_template_areas": null,
      "grid_template_columns": null,
      "grid_template_rows": null,
      "height": null,
      "justify_content": null,
      "justify_items": null,
      "left": null,
      "margin": null,
      "max_height": null,
      "max_width": null,
      "min_height": null,
      "min_width": null,
      "object_fit": null,
      "object_position": null,
      "order": null,
      "overflow": null,
      "overflow_x": null,
      "overflow_y": null,
      "padding": null,
      "right": null,
      "top": null,
      "visibility": null,
      "width": null
     }
    },
    "fa9ea97e3be548b5881155c4d95edfd4": {
     "model_module": "@jupyter-widgets/base",
     "model_module_version": "1.2.0",
     "model_name": "LayoutModel",
     "state": {
      "_model_module": "@jupyter-widgets/base",
      "_model_module_version": "1.2.0",
      "_model_name": "LayoutModel",
      "_view_count": null,
      "_view_module": "@jupyter-widgets/base",
      "_view_module_version": "1.2.0",
      "_view_name": "LayoutView",
      "align_content": null,
      "align_items": null,
      "align_self": null,
      "border": null,
      "bottom": null,
      "display": null,
      "flex": null,
      "flex_flow": null,
      "grid_area": null,
      "grid_auto_columns": null,
      "grid_auto_flow": null,
      "grid_auto_rows": null,
      "grid_column": null,
      "grid_gap": null,
      "grid_row": null,
      "grid_template_areas": null,
      "grid_template_columns": null,
      "grid_template_rows": null,
      "height": null,
      "justify_content": null,
      "justify_items": null,
      "left": null,
      "margin": null,
      "max_height": null,
      "max_width": null,
      "min_height": null,
      "min_width": null,
      "object_fit": null,
      "object_position": null,
      "order": null,
      "overflow": null,
      "overflow_x": null,
      "overflow_y": null,
      "padding": null,
      "right": null,
      "top": null,
      "visibility": null,
      "width": null
     }
    }
   }
  }
 },
 "nbformat": 4,
 "nbformat_minor": 5
}
